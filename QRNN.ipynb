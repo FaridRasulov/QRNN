{
  "nbformat": 4,
  "nbformat_minor": 0,
  "metadata": {
    "colab": {
      "name": "Copy of QRNN.ipynb",
      "provenance": [],
      "collapsed_sections": []
    },
    "kernelspec": {
      "name": "python3",
      "display_name": "Python 3"
    },
    "accelerator": "GPU"
  },
  "cells": [
    {
      "cell_type": "markdown",
      "metadata": {
        "id": "VdMyI4_FAHge",
        "colab_type": "text"
      },
      "source": [
        "# Neural Networks for Data Science Applications (2019/2020)"
      ]
    },
    {
      "cell_type": "markdown",
      "metadata": {
        "id": "6tJlTPM7C1Fa",
        "colab_type": "text"
      },
      "source": [
        "## Final exam\n",
        "**Student(s)**: Cervelli Riccardo (1609772), Farid Rasulov (1870543), Melis Kaymaz (1856307)\n",
        "\n",
        "**Reference paper / topic**: James Bradbury∗, Stephen Merity∗, Caiming Xiong & Richard Socher. \"Quasy-Recurrent Neural Networks.\"\n",
        " Salesforce Research,Palo Alto, California\n",
        "\n",
        "---\n",
        "\n"
      ]
    },
    {
      "cell_type": "markdown",
      "metadata": {
        "id": "rtRUHrOcD042",
        "colab_type": "text"
      },
      "source": [
        "# **Introduction**\n"
      ]
    },
    {
      "cell_type": "markdown",
      "metadata": {
        "id": "Q9LpCEKND1CU",
        "colab_type": "text"
      },
      "source": [
        "The aim of this project was implementing a state-of-the-art architecture from a given scientific paper (see[1]).\n",
        "In this project we faced the so called Quasi-Recurrent Neural Networks (QRNNs),which face the limits of both Convolutional and Recurrent Neural Networks and try to solve it.\n",
        "There are mainly two different ways to process the data in deep learning:\n",
        "\n",
        "1.   Process them all at once in parallel   (images)\n",
        "2.   Process them word-by-word              (text data)\n",
        "\n",
        "\n",
        "With the first one, more often applied to images, the same kind of computation happenfor every part of the image simultaneously.\n",
        "The second, used for text data,means process them from the beginning to the end, taking context into account. What the has been shown in this paper is this is not always true and this is possible mixing point 1 and 2 together, both the behaviour of CNNs and RNNs together in a sort of new kind of Neural Networks called Quasi-Recurrent in which is possible to process  all the text data at once like happens for the images (what CNN actually does), then quickly take into account context and fix then the wrong parts.The goal of the paper was to show how fast QRNNs are compared to LSTMs (which are limited in their capabilty to handle tasks involving long sequences).\n",
        "At the end what has been shown was that this is true because LSTM allow every neuron's activation for one word in a sentence to depend on every other neuron's activation for the previous word and in QRNNs instead each neuron's activation doesn't depend at all on the past history of any other neurons speeding up the process.\n",
        "\n",
        "\n",
        "\n",
        "\n"
      ]
    },
    {
      "cell_type": "markdown",
      "metadata": {
        "id": "qX0Pdq7swU_4",
        "colab_type": "text"
      },
      "source": [
        "# **MODEL**"
      ]
    },
    {
      "cell_type": "markdown",
      "metadata": {
        "id": "NLQKMSG9D1LN",
        "colab_type": "text"
      },
      "source": [
        "\n",
        "QRNNs are build using simple components: a convolution layer and a pooling layer. The basic idea is to use a convolutional layer to compute intermediate representations, then use pooling to handle sequential dependencies. This is expressed conceptually in the diagram below. A block of red means convolution or matrix multiplications and a continuos block of them means that they can be processed in parralel (which means faster).Blue signifies fast, simple functions (parameterless). "
      ]
    },
    {
      "cell_type": "markdown",
      "metadata": {
        "id": "sqekBShSD1E7",
        "colab_type": "text"
      },
      "source": [
        "![Figure](https://blog.einstein.ai/content/images/2019/08/qrnn_block.png)"
      ]
    },
    {
      "cell_type": "markdown",
      "metadata": {
        "id": "KG3bUsBcxPfn",
        "colab_type": "text"
      },
      "source": [
        "The computation proceeds as follows:\n",
        "\n",
        "**Step 1: Apply convolutions to compute intermediate vectors and gating vectors**\n",
        "\n"
      ]
    },
    {
      "cell_type": "markdown",
      "metadata": {
        "id": "Nq6B2s3QxiCc",
        "colab_type": "text"
      },
      "source": [
        "QRNNs use a regular convolution layer1 in the timestep dimension to compute three vectors for each input: a candidate vector, a forget gate, and an output gate. More specifically, given an input sequence of n-dimensional vectors $x_1,x_2…,x_T$ , the convolution layer for the candidate vectors with $m$ filters produces a sequence of $T$ m-dimensional output vectors $z_1,z_2…,z_T$ . The same goes for the forget gates and output gates. The precise equations are:"
      ]
    },
    {
      "cell_type": "markdown",
      "metadata": {
        "id": "AY5UuTtwygx0",
        "colab_type": "text"
      },
      "source": [
        "$z_t = tanh(conv_{W_z}(x_1,\\dots,x_{t-k+1})$\n",
        "\n",
        "$f_t = \\sigma(conv_{W_f}(x_1,\\dots,x_{t-k+1})$\n",
        "\n",
        "$o_t = \\sigma(conv_{W_o}(x_1,\\dots,x_{t-k+1})$"
      ]
    },
    {
      "cell_type": "markdown",
      "metadata": {
        "id": "Vglwe5tf1Slp",
        "colab_type": "text"
      },
      "source": [
        "where $conv$ represents convolution and $k$ is the filter size."
      ]
    },
    {
      "cell_type": "markdown",
      "metadata": {
        "id": "wbttbKhU1qG2",
        "colab_type": "text"
      },
      "source": [
        "**Step 2: Pool using gating**\n",
        "\n",
        "Using the inputs computed above, the QRNN computes the hidden states (outputs) according to the following equation:\n",
        "\n",
        "$c_t = f_t \\odot c_{t-1} + (1 - f_t) \\odot z_t$\n",
        "\n",
        "$h_t = o_t \\odot c_t$\n",
        "\n",
        "where $\\odot$ represents element-wise multiplication.\n",
        "\n",
        "This equation looks like the equation for the LSTM, and the difference may seem a bit unclear at first. The important difference is that the sequential processing only occurs in the pooling layer and that the values of $z_t , f_t ,$ and $o_t$ do not depend on any previous values. This is the essence of QRNNs: do the heavy computation in parallel and do minimal sequential processing in the pooling layers."
      ]
    },
    {
      "cell_type": "markdown",
      "metadata": {
        "id": "73r5Y1mfHglg",
        "colab_type": "text"
      },
      "source": [
        "**VARIANTS**\n",
        "\n",
        "**Regularization:** The authors propose to apply zoneout to regularize QRNNs. This is equivalent to setting some of the forget gates to 1 at random.\n",
        "\n",
        "**Densely-Connected Layers:** When stacking QRNNs, the authors also proposed adding skip-connections between all QRNN layers."
      ]
    },
    {
      "cell_type": "code",
      "metadata": {
        "id": "wOycc8l9AOl2",
        "colab_type": "code",
        "colab": {}
      },
      "source": [
        "import os\n",
        "import os.path\n",
        "import sys\n",
        "import json\n",
        "import numpy as np\n",
        "%tensorflow_version 1.x\n",
        "import tensorflow as tf\n",
        "os.environ['TF_CPP_MIN_LOG_LEVEL'] = '3'\n",
        "from keras.datasets import imdb\n",
        "from torch.utils.data import Dataset, DataLoader\n",
        "\n",
        "tf.test.gpu_device_name()\n",
        "tf.reset_default_graph()"
      ],
      "execution_count": 0,
      "outputs": []
    },
    {
      "cell_type": "code",
      "metadata": {
        "id": "C-0B1xVH2Ot4",
        "colab_type": "code",
        "colab": {}
      },
      "source": [
        "class QRNNLayer:\n",
        "    def __init__(self, input_size, conv_size, hidden_size, layer_id, pool='fo', zoneout=0.0, num_in_channels=1):\n",
        "        \n",
        "        self.input_size = input_size\n",
        "        self.conv_size = conv_size if conv_size%2==0 else conv_size+1 # size of convolution matrix\n",
        "        self.hidden_size = hidden_size # number of convolutions\n",
        "        self.layer_id = layer_id \n",
        "        self.pool = pool # pooling function name\n",
        "        self.zoneout = zoneout # zoneout coefficient\n",
        "        self.num_in_channels = num_in_channels # number of channels\n",
        "        init = tf.random_normal_initializer()\n",
        "        filter_shape = [conv_size, input_size, num_in_channels, hidden_size*(len(pool)+1)]\n",
        "        \n",
        "        with tf.variable_scope('QRNN/conv/'+str(layer_id)):\n",
        "            self.W = tf.get_variable('W', filter_shape, initializer=init, dtype=tf.float32)\n",
        "            self.b = tf.get_variable('b', [hidden_size*(len(pool)+1)], initializer=init, dtype=tf.float32)\n",
        "\n",
        "    # zoneout and pooling\n",
        "    def __call__(self, inputs, train=None):\n",
        "        gates = self.conv(inputs)\n",
        "        if self.zoneout and self.zoneout > 0.0:\n",
        "            F = gates[2]\n",
        "            F = tf.cond(train, lambda: 1-tf.nn.dropout(F, 1-self.zoneout), lambda: F)\n",
        "            gates[2] = F\n",
        "        if self.pool == 'f': return self.f_pool(gates)\n",
        "        elif self.pool == 'fo': return self.fo_pool(gates)\n",
        "        elif self.pool == 'ifo': return self.ifo_pool(gates)\n",
        "\n",
        "    # convolution operation\n",
        "    def conv(self, inputs):\n",
        "        # input dims: [batch x seq x state x in]\n",
        "        # padded_inputs dims: [batch x seq x state x in]\n",
        "        padded_inputs = tf.pad(inputs, [[0, 0], [self.conv_size - 1, 0], [0, 0], [0, 0]], \"CONSTANT\")\n",
        "        conv = tf.nn.conv2d(padded_inputs, self.W, strides=[1, 1, 1, 1],padding='VALID', name='conv'+str(self.layer_id))\n",
        "        conv += self.b\n",
        "        # conv dims: [batch x seq x in x num_conv*3]\n",
        "        gates = tf.split(conv, (len(self.pool)+1), 3)\n",
        "        # apply nonlinearities, turn into lists by seq\n",
        "        gates[0] = tf.tanh(gates[0])\n",
        "        for i in range(1, len(gates)):\n",
        "            gates[i] = tf.sigmoid(gates[i])\n",
        "        return gates\n",
        "\n",
        "    def unstack(self, gates, pooling):\n",
        "        if pooling == 'f': Z, F = gates\n",
        "        elif pooling == 'fo': Z, F, O = gates\n",
        "        elif pooling == 'ifo': Z, F, O, I = gates\n",
        "\n",
        "        Z = tf.unstack(Z, axis=1)\n",
        "        F = tf.unstack(F, axis=1)\n",
        "        if pooling == 'f': return Z,F\n",
        "        O = tf.unstack(O, axis=1)\n",
        "        if pooling == 'fo': return Z,F,O\n",
        "        I = tf.unstack(O, axis=1)\n",
        "        if pooling == 'ifo': return Z,F,O,I\n",
        "\n",
        "    # pooling function\n",
        "    def fo_pool(self, gates):\n",
        "        Z, F, O = self.unstack(gates,'fo')\n",
        "        C = [tf.fill(tf.shape(Z[0]), 0.0)] #tf.zeros(tf.shape(Z[0]), tf.float32) #\n",
        "        H = []\n",
        "        for i in range(len(Z)):\n",
        "            c = tf.multiply(F[i], C[-1]) + tf.multiply(1-F[i], Z[i])\n",
        "            h = tf.multiply(O[i], c)\n",
        "            C.append(c)\n",
        "            H.append(h)\n",
        "        H = tf.stack(H, axis=1)\n",
        "        return tf.transpose(H, perm=[0, 1, 3, 2]) "
      ],
      "execution_count": 0,
      "outputs": []
    },
    {
      "cell_type": "code",
      "metadata": {
        "id": "juou5E1Y2Uq1",
        "colab_type": "code",
        "colab": {}
      },
      "source": [
        "class DenseLayer:\n",
        "    def __init__(self, input_size, conv_size, hidden_size, layer_ids, num_layers, zoneout=0.0, dropout=0.0):\n",
        "        self.layers = []\n",
        "        self.num_layers = num_layers # number of layers\n",
        "        self.hidden_size = hidden_size\n",
        "        self.dropout = dropout\n",
        "        self.layers = [QRNNLayer(hidden_size, conv_size, hidden_size,layer_ids[i], pool='fo', zoneout=zoneout, num_in_channels=i+1)\\\n",
        "                                                    if i == 0 else  for i in range(num_layers)]\n",
        "\n",
        "    def __call__(self, inputs, train=None):\n",
        "        inputs = tf.layers.dense(tf.transpose(inputs, [0, 1, 3, 2]), self.hidden_size)\n",
        "        inputs = tf.transpose(inputs, [0, 1, 3, 2])\n",
        "        for layer in self.layers:\n",
        "            outputs =  layer(inputs, train=train)\n",
        "            if self.dropout and self.dropout > 0:\n",
        "                keep_prob = 1 - self.dropout\n",
        "                outputs = tf.cond(train, lambda: tf.nn.dropout(outputs, keep_prob), lambda: outputs)\n",
        "            inputs = tf.concat([inputs, outputs], 3) # connect the layers\n",
        "        return tf.squeeze(outputs[:, :, :, -1])"
      ],
      "execution_count": 0,
      "outputs": []
    },
    {
      "cell_type": "code",
      "metadata": {
        "id": "BEWU7qPy2J_i",
        "colab_type": "code",
        "colab": {}
      },
      "source": [
        "class Model:\n",
        "    def __init__(self, embeddings, BATCH_SIZE, SEQ_LEN, train, beta=4e-6):\n",
        "        self.batch_size = BATCH_SIZE\n",
        "        self.seq_len = SEQ_LEN\n",
        "        self.embeddings = embeddings\n",
        "        self.train = train\n",
        "\n",
        "        self.inputs = tf.placeholder(tf.int32, [BATCH_SIZE, SEQ_LEN], name=\"inputs\")\n",
        "        self.masks = tf.placeholder(tf.float32, [BATCH_SIZE, SEQ_LEN], name=\"mask\")\n",
        "        self.labels = tf.placeholder(tf.int32, [BATCH_SIZE], name=\"labels\")\n",
        "        self.train = tf.placeholder(tf.bool, [], name='train')\n",
        "\n",
        "        x, weights = self.forward()\n",
        "        loss = self.__call__(x)\n",
        "        \n",
        "        self.op = tf.train.RMSPropOptimizer(0.001).minimize(loss)\n",
        "        self.epoch = tf.Variable(0, dtype=tf.int32, trainable=False, name='epoch')\n",
        "\n",
        "    def __call__(self, x):\n",
        "        masks = self.masks\n",
        "        labels = self.labels\n",
        "        outputs = tf.reduce_mean(x * tf.expand_dims(masks, -1), 1)\n",
        "        logits = tf.layers.dense(tf.squeeze(outputs), 2)\n",
        "        pred = tf.argmax(tf.nn.softmax(logits), -1)\n",
        "        loss = tf.nn.sparse_softmax_cross_entropy_with_logits(logits=logits, labels=labels)\n",
        "        self.cost = tf.reduce_sum(loss) / self.batch_size\n",
        "        correct_prediction = tf.equal(tf.cast(pred, tf.int32), labels)\n",
        "        self.accuracy = tf.reduce_sum(tf.cast(correct_prediction,tf.float32)) / self.batch_size\n",
        "        \n",
        "        return loss"
      ],
      "execution_count": 0,
      "outputs": []
    },
    {
      "cell_type": "code",
      "metadata": {
        "id": "ePRsK3392LdN",
        "colab_type": "code",
        "colab": {}
      },
      "source": [
        "class DenseModel(Model):\n",
        "    def forward(self):\n",
        "        inputs = self.inputs\n",
        "        num_layers = 4\n",
        "        input_size = 300\n",
        "        num_convs = 256\n",
        "        conv_size = 2\n",
        "        x = tf.expand_dims(tf.nn.embedding_lookup(self.embeddings, inputs), -1)\n",
        "        qrnn = DenseLayer(input_size,conv_size,num_convs,range(num_layers),num_layers, dropout=0.3)\n",
        "        x = qrnn(x, train=self.train)\n",
        "        weights = [l.W for l in qrnn.layers] + [l.b for l in qrnn.layers]\n",
        "        return tf.squeeze(x), weights"
      ],
      "execution_count": 0,
      "outputs": []
    },
    {
      "cell_type": "code",
      "metadata": {
        "id": "2NP2ZGdI2YLw",
        "colab_type": "code",
        "colab": {}
      },
      "source": [
        "def get_embeddings(vocab, path, dim = 300):\n",
        "    vocab_dict = {word: int(_id) for _id, word in vocab.items()}\n",
        "    embed_id = path.split('.')[-2]\n",
        "    if embed_id+'_imdb.json' not in os.listdir('.'):\n",
        "        embeds = {}\n",
        "        with open(path, encoding=\"utf8\") as f:\n",
        "            for line in f:\n",
        "                split = line.split()\n",
        "                word = split[0].encode('utf-8').lower()\n",
        "                vec = split[1:]\n",
        "                if word in vocab_dict.keys():\n",
        "                    embeds[vocab_dict[word]] = list(map(float,vec))\n",
        "        with open(embed_id+'_imdb.json', 'w') as f:\n",
        "            f.write(json.dumps(embeds))\n",
        "    else:\n",
        "        with open(embed_id+'_imdb.json') as f:\n",
        "            embeds = {int(_id): word for _id, word in json.loads(f.read()).items()}\n",
        "    embed_list = []\n",
        "    for i in range(3):\n",
        "        var = tf.Variable(tf.contrib.layers.xavier_initializer()(shape=[dim]), dtype=tf.float32)\n",
        "        embed_list.append(var)\n",
        "    for _id, word in vocab.items():\n",
        "        if int(_id) in embeds.keys(): embed_list.append(tf.constant(embeds[_id], dtype=tf.float32))\n",
        "        else: embed_list.append(embed_list[2])\n",
        "    return tf.stack(embed_list, axis=0)\n",
        "\n",
        "class imdbDataset(Dataset):\n",
        "    def __init__(self, dataset, seq_len=100):\n",
        "        self.x = dataset[0]\n",
        "        self.pad_inputs(seq_len)\n",
        "        self.get_masks(seq_len)\n",
        "        self.y = dataset[1]\n",
        "\n",
        "    def pad_inputs(self, seq_len):\n",
        "        new_xs = []\n",
        "        for x in self.x:\n",
        "            if len(x) > seq_len: x = x[:seq_len]\n",
        "            elif len(x) < seq_len: x += [0] * (seq_len - len(x))\n",
        "            assert len(x) == seq_len\n",
        "            new_xs.append(x)\n",
        "        self.x = new_xs\n",
        "\n",
        "    def get_masks(self, seq_len):\n",
        "        self.masks = []\n",
        "        for x in self.x:\n",
        "            mask = [1.0 * (x_i != 0) for x_i in x]\n",
        "            assert len(mask) == seq_len\n",
        "            self.masks.append(mask)\n",
        " \n",
        "    def __len__(self):\n",
        "        return len(self.x)\n",
        "\n",
        "    def __getitem__(self, i):\n",
        "        return self.x[i], self.masks[i], self.y[i]\n",
        "\n",
        "def get_datasets(batch_size=100, num_words=1000, seq_len=100):\n",
        "    train, test = imdb.load_data(num_words=num_words)\n",
        "    vocab = imdb.get_word_index()\n",
        "    vocab = {int(_id): word.encode('utf-8').lower() for word, _id in vocab.items() if _id <= num_words}\n",
        "    train = imdbDataset(train, seq_len=seq_len)\n",
        "    n = int(len(test[0])/2)\n",
        "    val = imdbDataset((test[0][0:n], test[1][0:n]), seq_len=seq_len)\n",
        "    test = imdbDataset((test[0][n:], test[1][n:]), seq_len=seq_len)\n",
        "    if os.path.isfile('./glove.6B.300d.txt')==False:\n",
        "            !wget http://nlp.stanford.edu/data/glove.6B.zip\n",
        "            !unzip glove*.zip\n",
        "    return (DataLoader(train, batch_size), DataLoader(val, batch_size), DataLoader(test, batch_size), vocab)"
      ],
      "execution_count": 0,
      "outputs": []
    },
    {
      "cell_type": "code",
      "metadata": {
        "id": "7nqXE0P_26DH",
        "colab_type": "code",
        "colab": {}
      },
      "source": [
        "def run(model, sess, dataset, train=False):\n",
        "    mean_accuracy = 0.0\n",
        "    mean_loss = 0.0\n",
        "    for x, masks, y in dataset:\n",
        "        input_feed = {\n",
        "            model.inputs: np.array([i.numpy() for i in x]).T,\n",
        "            model.masks: np.array([i.numpy() for i in masks]).T,\n",
        "            model.labels: np.array([i.numpy() for i in y]).T,\n",
        "            model.train: train\n",
        "        }\n",
        "\n",
        "        if train:\n",
        "            output_feed = [model.cost, model.accuracy, model.op]\n",
        "            loss, accuracy, _ = sess.run(output_feed, input_feed)\n",
        "        else:\n",
        "            output_feed = [model.cost, model.accuracy]\n",
        "            loss, accuracy = sess.run(output_feed, input_feed)\n",
        "        mean_loss += loss\n",
        "        mean_accuracy += accuracy\n",
        "\n",
        "    mean_loss /= len(dataset)\n",
        "    mean_accuracy /= len(dataset)\n",
        "    return mean_loss, mean_accuracy"
      ],
      "execution_count": 0,
      "outputs": []
    },
    {
      "cell_type": "code",
      "metadata": {
        "id": "dOO-O4jB2-Fo",
        "colab_type": "code",
        "outputId": "8c6f9d51-9992-4d81-d703-7e33b1cb112e",
        "colab": {
          "base_uri": "https://localhost:8080/",
          "height": 927
        }
      },
      "source": [
        "tf.reset_default_graph()\n",
        "NUM_EPOCHS = 20\n",
        "BATCH_SIZE = 25\n",
        "SEQ_LEN = 400\n",
        "VOCAB_SIZE = 68379\n",
        "\n",
        "trainset, valset, testset, vocab = get_datasets(BATCH_SIZE,VOCAB_SIZE,SEQ_LEN)\n",
        "embeddings = get_embeddings(vocab, './glove.6B.300d.txt')\n",
        "model = DenseModel(embeddings, BATCH_SIZE, SEQ_LEN, VOCAB_SIZE)\n",
        "saver = tf.train.Saver()"
      ],
      "execution_count": 0,
      "outputs": [
        {
          "output_type": "stream",
          "text": [
            "Downloading data from https://s3.amazonaws.com/text-datasets/imdb.npz\n",
            "17465344/17464789 [==============================] - 1s 0us/step\n",
            "Downloading data from https://s3.amazonaws.com/text-datasets/imdb_word_index.json\n",
            "1646592/1641221 [==============================] - 1s 0us/step\n",
            "--2020-04-28 14:37:18--  http://nlp.stanford.edu/data/glove.6B.zip\n",
            "Resolving nlp.stanford.edu (nlp.stanford.edu)... 171.64.67.140\n",
            "Connecting to nlp.stanford.edu (nlp.stanford.edu)|171.64.67.140|:80... connected.\n",
            "HTTP request sent, awaiting response... 302 Found\n",
            "Location: https://nlp.stanford.edu/data/glove.6B.zip [following]\n",
            "--2020-04-28 14:37:19--  https://nlp.stanford.edu/data/glove.6B.zip\n",
            "Connecting to nlp.stanford.edu (nlp.stanford.edu)|171.64.67.140|:443... connected.\n",
            "HTTP request sent, awaiting response... 301 Moved Permanently\n",
            "Location: http://downloads.cs.stanford.edu/nlp/data/glove.6B.zip [following]\n",
            "--2020-04-28 14:37:19--  http://downloads.cs.stanford.edu/nlp/data/glove.6B.zip\n",
            "Resolving downloads.cs.stanford.edu (downloads.cs.stanford.edu)... 171.64.64.22\n",
            "Connecting to downloads.cs.stanford.edu (downloads.cs.stanford.edu)|171.64.64.22|:80... connected.\n",
            "HTTP request sent, awaiting response... 200 OK\n",
            "Length: 862182613 (822M) [application/zip]\n",
            "Saving to: ‘glove.6B.zip’\n",
            "\n",
            "glove.6B.zip        100%[===================>] 822.24M  2.01MB/s    in 6m 30s  \n",
            "\n",
            "2020-04-28 14:43:49 (2.11 MB/s) - ‘glove.6B.zip’ saved [862182613/862182613]\n",
            "\n",
            "Archive:  glove.6B.zip\n",
            "  inflating: glove.6B.50d.txt        \n",
            "  inflating: glove.6B.100d.txt       \n",
            "  inflating: glove.6B.200d.txt       \n",
            "  inflating: glove.6B.300d.txt       \n",
            "WARNING:tensorflow:\n",
            "The TensorFlow contrib module will not be included in TensorFlow 2.0.\n",
            "For more information, please see:\n",
            "  * https://github.com/tensorflow/community/blob/master/rfcs/20180907-contrib-sunset.md\n",
            "  * https://github.com/tensorflow/addons\n",
            "  * https://github.com/tensorflow/io (for I/O related ops)\n",
            "If you depend on functionality not listed there, please file an issue.\n",
            "\n",
            "WARNING:tensorflow:From <ipython-input-5-fb914447d4ba>:10: dense (from tensorflow.python.layers.core) is deprecated and will be removed in a future version.\n",
            "Instructions for updating:\n",
            "Use keras.layers.Dense instead.\n",
            "WARNING:tensorflow:From /tensorflow-1.15.2/python3.6/tensorflow_core/python/layers/core.py:187: Layer.apply (from tensorflow.python.keras.engine.base_layer) is deprecated and will be removed in a future version.\n",
            "Instructions for updating:\n",
            "Please use `layer.__call__` method instead.\n",
            "WARNING:tensorflow:From <ipython-input-5-fb914447d4ba>:16: calling dropout (from tensorflow.python.ops.nn_ops) with keep_prob is deprecated and will be removed in a future version.\n",
            "Instructions for updating:\n",
            "Please use `rate` instead of `keep_prob`. Rate should be set to `rate = 1 - keep_prob`.\n",
            "WARNING:tensorflow:From /tensorflow-1.15.2/python3.6/tensorflow_core/python/training/rmsprop.py:119: calling Ones.__init__ (from tensorflow.python.ops.init_ops) with dtype is deprecated and will be removed in a future version.\n",
            "Instructions for updating:\n",
            "Call initializer instance with the dtype argument instead of passing it to the constructor\n"
          ],
          "name": "stdout"
        }
      ]
    },
    {
      "cell_type": "code",
      "metadata": {
        "id": "lnTipD1QSrkO",
        "colab_type": "code",
        "colab": {}
      },
      "source": [
        "def plot_performance(train, val, label):\n",
        "    plt.plot(train)\n",
        "    plt.plot(val)\n",
        "    plt.ylabel(label)\n",
        "    plt.xlabel('epoch')\n",
        "    if label=='acc':\n",
        "      plt.legend(['train', 'val'], loc='lower right')\n",
        "    elif label=='loss':\n",
        "      plt.legend(['train', 'val'], loc='upper right')\n",
        "    plt.grid()\n",
        "    plt.show()"
      ],
      "execution_count": 0,
      "outputs": []
    },
    {
      "cell_type": "code",
      "metadata": {
        "id": "hH6cQD8vXZyX",
        "colab_type": "code",
        "outputId": "28f02e5f-27cd-440c-df00-360ef992239d",
        "colab": {
          "base_uri": "https://localhost:8080/",
          "height": 199
        }
      },
      "source": [
        "trainloss = []\n",
        "trainacc = []\n",
        "valloss = []\n",
        "valacc = []\n",
        "with tf.Session() as sess:\n",
        "    sess.run(tf.global_variables_initializer())\n",
        "    epoch = model.epoch.eval()\n",
        "    for i in range(epoch, NUM_EPOCHS):\n",
        "        train_loss, train_acc = run(model, sess, trainset, train=True)\n",
        "        tr_acc.append(train_acc)\n",
        "        tr_loss.append(train_loss)\n",
        "        val_loss, val_acc = run(model, sess, valset)\n",
        "        vl_acc.append(val_acc)\n",
        "        vl_loss.append(val_loss)\n",
        "        print('epoch: ', i, 'train loss: ', train_loss, 'train acc: ', train_acc, 'val loss: ', val_loss, 'val acc: ', val_acc)\n",
        "        sess.run(tf.assign(model.epoch, i+1))\n",
        "    saver.save(sess, 'checkpoints',write_state=True)"
      ],
      "execution_count": 0,
      "outputs": [
        {
          "output_type": "stream",
          "text": [
            "epoch:  0 train loss:  0.6853148998022079 train acc:  0.5535200007855893 val loss:  0.669365199804306 val acc:  0.6041600015759468\n",
            "epoch:  1 train loss:  0.6663877372741699 train acc:  0.6034800022244453 val loss:  0.648580476641655 val acc:  0.6288000038266182\n",
            "epoch:  2 train loss:  0.6474526377916336 train acc:  0.6312000035047531 val loss:  0.6301768251657486 val acc:  0.6481600034832954\n",
            "epoch:  3 train loss:  0.6331178836524487 train acc:  0.6446400035023689 val loss:  0.617813973724842 val acc:  0.6639200038313866\n",
            "epoch:  4 train loss:  0.6221512376666068 train acc:  0.6594400045573712 val loss:  0.6039123462438584 val acc:  0.6788000034689903\n",
            "epoch:  5 train loss:  0.6122854272723198 train acc:  0.6672800043523311 val loss:  0.596874136686325 val acc:  0.6844000028967857\n",
            "epoch:  6 train loss:  0.5990313408970833 train acc:  0.6795600041747093 val loss:  0.5907793251872062 val acc:  0.6888000029921532\n",
            "epoch:  7 train loss:  0.5923090471327305 train acc:  0.6894000036418438 val loss:  0.5757155727744102 val acc:  0.7064800046682358\n",
            "epoch:  8 train loss:  0.5844454469680787 train acc:  0.6935600036978722 val loss:  0.5741446944475174 val acc:  0.7073600053191185\n",
            "epoch:  9 train loss:  0.5819490627646446 train acc:  0.7010400043129921 val loss:  0.5627280517220498 val acc:  0.7164000036120415\n"
          ],
          "name": "stdout"
        }
      ]
    },
    {
      "cell_type": "code",
      "metadata": {
        "id": "5yL4Ysx84tJv",
        "colab_type": "code",
        "outputId": "5a50ba7d-25eb-4a0e-8d67-8d3543e83d5a",
        "colab": {
          "base_uri": "https://localhost:8080/",
          "height": 217
        }
      },
      "source": [
        "with tf.Session() as sess:\n",
        "    sess.run(tf.global_variables_initializer())\n",
        "    saver.restore(sess, tf.train.get_checkpoint_state('').model_checkpoint_path)\n",
        "    epoch = model.epoch.eval()\n",
        "    for i in range(epochs, NUM_EPOCHS):\n",
        "        train_loss, train_acc = run(model, sess, trainset, train=True)\n",
        "        tr_acc.append(train_acc)\n",
        "        tr_loss.append(train_loss)\n",
        "        val_loss, val_acc = run(model, sess, valset)\n",
        "        vl_acc.append(val_acc)\n",
        "        vl_loss.append(val_loss)\n",
        "        print('epoch: ', i, 'train loss: ', train_loss, 'train acc: ', train_acc, 'val loss: ', val_loss, 'val acc: ', val_acc)\n",
        "        sess.run(tf.assign(model.epoch, i+1))\n",
        "    saver.save(sess, 'checkpoints',write_state=True)"
      ],
      "execution_count": 0,
      "outputs": [
        {
          "output_type": "stream",
          "text": [
            "INFO:tensorflow:Restoring parameters from checkpoints\n",
            "epoch:  10 train loss:  0.5767313345074654 train acc:  0.7058800038993358 val loss:  0.5629765822291374 val acc:  0.7163200035691262\n",
            "epoch:  11 train loss:  0.5697416437864303 train acc:  0.7059200035631656 val loss:  0.5559571363329887 val acc:  0.7183200053572655\n",
            "epoch:  12 train loss:  0.5654054255783558 train acc:  0.7162400041520596 val loss:  0.5451382400989533 val acc:  0.7276000036001206\n",
            "epoch:  13 train loss:  0.5559363066852093 train acc:  0.7223200023174285 val loss:  0.5411429395079612 val acc:  0.7292000037431717\n",
            "epoch:  14 train loss:  0.5544657707214355 train acc:  0.7224400034844876 val loss:  0.5353631137609481 val acc:  0.7361600025892258\n",
            "epoch:  15 train loss:  0.5498119496405125 train acc:  0.7269200032353401 val loss:  0.5405908778905869 val acc:  0.7319200034737587\n",
            "epoch:  16 train loss:  0.5436905031502247 train acc:  0.7331600025594235 val loss:  0.5319896857738495 val acc:  0.741440003991127\n",
            "epoch:  17 train loss:  0.539192643046379 train acc:  0.7353200034201145 val loss:  0.5272803991436958 val acc:  0.73840000385046\n",
            "epoch:  18 train loss:  0.5381601458489895 train acc:  0.7362400026917457 val loss:  0.5333702155947685 val acc:  0.7363200032711029\n",
            "epoch:  19 train loss:  0.5353367163836956 train acc:  0.7394800021350384 val loss:  0.5304239103794098 val acc:  0.7424800027012824\n"
          ],
          "name": "stdout"
        }
      ]
    },
    {
      "cell_type": "code",
      "metadata": {
        "id": "ebKhMrkZ0RPN",
        "colab_type": "code",
        "outputId": "019cce19-d1a9-43d5-b473-02f4dfacb30e",
        "colab": {
          "base_uri": "https://localhost:8080/",
          "height": 279
        }
      },
      "source": [
        "import matplotlib.pyplot as plt\n",
        "plot_performance(trainloss, valloss, 'loss')"
      ],
      "execution_count": 6,
      "outputs": [
        {
          "output_type": "display_data",
          "data": {
            "image/png": "[encoded data removed]",
            "text/plain": [
              "<Figure size 432x288 with 1 Axes>"
            ]
          },
          "metadata": {
            "tags": [],
            "needs_background": "light"
          }
        }
      ]
    },
    {
      "cell_type": "code",
      "metadata": {
        "id": "sZONe92J4fKj",
        "colab_type": "code",
        "outputId": "58bf0f9b-145f-48fd-f388-440853e7ec64",
        "colab": {
          "base_uri": "https://localhost:8080/",
          "height": 281
        }
      },
      "source": [
        "plot_performance(trainacc, valacc, 'acc')"
      ],
      "execution_count": 9,
      "outputs": [
        {
          "output_type": "display_data",
          "data": {
            "image/png": "[encoded data removed]",
            "text/plain": [
              "<Figure size 432x288 with 1 Axes>"
            ]
          },
          "metadata": {
            "tags": [],
            "needs_background": "light"
          }
        }
      ]
    },
    {
      "cell_type": "code",
      "metadata": {
        "id": "csetqd98Ofie",
        "colab_type": "code",
        "outputId": "ad92125b-8361-4fbf-9573-98d253beffee",
        "colab": {
          "base_uri": "https://localhost:8080/",
          "height": 53
        }
      },
      "source": [
        "with tf.Session() as sess:\n",
        "    sess.run(tf.global_variables_initializer())\n",
        "    saver.restore(sess, tf.train.get_checkpoint_state('').model_checkpoint_path)\n",
        "    test_loss, test_acc = run(model, sess, testset)\n",
        "    print ('test loss: ', test_loss, 'test acc: ', test_acc)"
      ],
      "execution_count": 0,
      "outputs": [
        {
          "output_type": "stream",
          "text": [
            "INFO:tensorflow:Restoring parameters from checkpoints\n",
            "test loss:  0.55588800907135 test acc:  0.7230400323867798\n"
          ],
          "name": "stdout"
        }
      ]
    },
    {
      "cell_type": "code",
      "metadata": {
        "id": "A_Odwi4U67YX",
        "colab_type": "code",
        "colab": {}
      },
      "source": [
        ""
      ],
      "execution_count": 0,
      "outputs": []
    }
  ]
}