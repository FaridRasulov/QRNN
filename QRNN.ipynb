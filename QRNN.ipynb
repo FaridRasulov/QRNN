{
  "nbformat": 4,
  "nbformat_minor": 0,
  "metadata": {
    "colab": {
      "name": "QRNN.ipynb",
      "provenance": [],
      "collapsed_sections": []
    },
    "kernelspec": {
      "name": "python3",
      "display_name": "Python 3"
    },
    "accelerator": "GPU"
  },
  "cells": [
    {
      "cell_type": "code",
      "metadata": {
        "id": "jUGQa7rK2Fbe",
        "colab_type": "code",
        "colab": {
          "base_uri": "https://localhost:8080/",
          "height": 53
        },
        "outputId": "69dd71fb-0177-4395-c2bb-feed9a6e86a7"
      },
      "source": [
        "import os\n",
        "import os.path\n",
        "import sys\n",
        "import json\n",
        "import numpy as np\n",
        "%tensorflow_version 1.x\n",
        "import tensorflow as tf\n",
        "os.environ['TF_CPP_MIN_LOG_LEVEL'] = '3'\n",
        "from keras.datasets import imdb\n",
        "from torch.utils.data import Dataset, DataLoader\n",
        "\n",
        "tf.test.gpu_device_name()\n",
        "tf.reset_default_graph()"
      ],
      "execution_count": 1,
      "outputs": [
        {
          "output_type": "stream",
          "text": [
            "TensorFlow 1.x selected.\n"
          ],
          "name": "stdout"
        },
        {
          "output_type": "stream",
          "text": [
            "Using TensorFlow backend.\n"
          ],
          "name": "stderr"
        }
      ]
    },
    {
      "cell_type": "code",
      "metadata": {
        "id": "BEWU7qPy2J_i",
        "colab_type": "code",
        "colab": {}
      },
      "source": [
        "class Model:\n",
        "    def __init__(self, embeddings, BATCH_SIZE, SEQ_LEN, train, beta=4e-6):\n",
        "        self.batch_size = BATCH_SIZE\n",
        "        self.seq_len = SEQ_LEN\n",
        "        self.embeddings = embeddings\n",
        "        self.train = train\n",
        "\n",
        "        self.inputs = tf.placeholder(tf.int32, [BATCH_SIZE, SEQ_LEN], name=\"inputs\")\n",
        "        self.masks = tf.placeholder(tf.float32, [BATCH_SIZE, SEQ_LEN], name=\"mask\")\n",
        "        self.labels = tf.placeholder(tf.int32, [BATCH_SIZE], name=\"labels\")\n",
        "        self.train = tf.placeholder(tf.bool, [], name='train')\n",
        "\n",
        "        x, weights = self.forward()\n",
        "        loss = self.__call__(x)\n",
        "        \n",
        "        self.op = tf.train.RMSPropOptimizer(0.001).minimize(loss)\n",
        "        self.epoch = tf.Variable(0, dtype=tf.int32, trainable=False, name='epoch')\n",
        "\n",
        "    def __call__(self, x):\n",
        "        masks = self.masks\n",
        "        labels = self.labels\n",
        "        outputs = tf.reduce_mean(x * tf.expand_dims(masks, -1), 1)\n",
        "        logits = tf.layers.dense(tf.squeeze(outputs), 2)\n",
        "        pred = tf.argmax(tf.nn.softmax(logits), -1)\n",
        "        loss = tf.nn.sparse_softmax_cross_entropy_with_logits(logits=logits, labels=labels)\n",
        "        self.cost = tf.reduce_sum(loss) / self.batch_size\n",
        "        correct_prediction = tf.equal(tf.cast(pred, tf.int32), labels)\n",
        "        self.accuracy = tf.reduce_sum(tf.cast(correct_prediction,tf.float32)) / self.batch_size\n",
        "        \n",
        "        return loss"
      ],
      "execution_count": 0,
      "outputs": []
    },
    {
      "cell_type": "code",
      "metadata": {
        "id": "ePRsK3392LdN",
        "colab_type": "code",
        "colab": {}
      },
      "source": [
        "class DenseModel(Model):\n",
        "    def forward(self):\n",
        "        inputs = self.inputs\n",
        "        num_layers = 4\n",
        "        input_size = 300\n",
        "        num_convs = 256\n",
        "        conv_size = 2\n",
        "        x = tf.expand_dims(tf.nn.embedding_lookup(self.embeddings, inputs), -1)\n",
        "        qrnn = DenseLayer(input_size,conv_size,num_convs,range(num_layers),num_layers, dropout=0.3)\n",
        "        x = qrnn(x, train=self.train)\n",
        "        weights = [l.W for l in qrnn.layers] + [l.b for l in qrnn.layers]\n",
        "        return tf.squeeze(x), weights"
      ],
      "execution_count": 0,
      "outputs": []
    },
    {
      "cell_type": "code",
      "metadata": {
        "id": "C-0B1xVH2Ot4",
        "colab_type": "code",
        "colab": {}
      },
      "source": [
        "class QRNNLayer:\n",
        "    def __init__(self, input_size, conv_size, hidden_size, layer_id, pool='fo', zoneout=0.0, num_in_channels=1):\n",
        "        \n",
        "        self.input_size = input_size\n",
        "        self.conv_size = conv_size if conv_size%2==0 else conv_size+1\n",
        "        self.hidden_size = hidden_size\n",
        "        self.layer_id = layer_id\n",
        "        self.pool = pool\n",
        "        self.zoneout = zoneout\n",
        "        self.num_in_channels = num_in_channels\n",
        "        init = tf.random_normal_initializer()\n",
        "        filter_shape = [conv_size, input_size, num_in_channels, hidden_size*(len(pool)+1)]\n",
        "\n",
        "        with tf.variable_scope('QRNN/conv/'+str(layer_id)):\n",
        "            self.W = tf.get_variable('W', filter_shape, initializer=init, dtype=tf.float32)\n",
        "            self.b = tf.get_variable('b', [hidden_size*(len(pool)+1)], initializer=init, dtype=tf.float32)\n",
        "\n",
        "    def __call__(self, inputs, train=None):\n",
        "        gates = self.conv(inputs)\n",
        "        if self.zoneout and self.zoneout > 0.0:\n",
        "            F = gates[2]\n",
        "            F = tf.cond(train, lambda: 1-tf.nn.dropout(F, 1-self.zoneout), lambda: F)\n",
        "            gates[2] = F\n",
        "        if self.pool == 'f': return self.f_pool(gates)\n",
        "        elif self.pool == 'fo': return self.fo_pool(gates)\n",
        "        elif self.pool == 'ifo': return self.ifo_pool(gates)\n",
        "\n",
        "    def conv(self, inputs):\n",
        "        padded_inputs = tf.pad(inputs, [[0, 0], [self.conv_size - 1, 0], [0, 0], [0, 0]], \"CONSTANT\")\n",
        "        conv = tf.nn.conv2d(padded_inputs, self.W, strides=[1, 1, 1, 1],padding='VALID', name='conv'+str(self.layer_id))\n",
        "        conv += self.b\n",
        "        gates = tf.split(conv, (len(self.pool)+1), 3)\n",
        "        gates[0] = tf.tanh(gates[0])\n",
        "        for i in range(1, len(gates)):\n",
        "            gates[i] = tf.sigmoid(gates[i])\n",
        "        return gates\n",
        "\n",
        "    def unstack(self, gates, pooling):\n",
        "        if pooling == 'f': Z, F = gates\n",
        "        elif pooling == 'fo': Z, F, O = gates\n",
        "        elif pooling == 'ifo': Z, F, O, I = gates\n",
        "\n",
        "        Z = tf.unstack(Z, axis=1)\n",
        "        F = tf.unstack(F, axis=1)\n",
        "        if pooling == 'f': return Z,F\n",
        "        O = tf.unstack(O, axis=1)\n",
        "        if pooling == 'fo': return Z,F,O\n",
        "        I = tf.unstack(O, axis=1)\n",
        "        if pooling == 'ifo': return Z,F,O,I\n",
        "\n",
        "    def fo_pool(self, gates):\n",
        "        Z, F, O = self.unstack(gates,'fo')\n",
        "        C = [tf.fill(tf.shape(Z[0]), 0.0)] #tf.zeros(tf.shape(Z[0]), tf.float32) #\n",
        "        H = []\n",
        "        for i in range(len(Z)):\n",
        "            c = tf.multiply(F[i], C[-1]) + tf.multiply(1-F[i], Z[i])\n",
        "            h = tf.multiply(O[i], c)\n",
        "            C.append(c)\n",
        "            H.append(h)\n",
        "        H = tf.stack(H, axis=1)\n",
        "        return tf.transpose(H, perm=[0, 1, 3, 2]) "
      ],
      "execution_count": 0,
      "outputs": []
    },
    {
      "cell_type": "code",
      "metadata": {
        "id": "juou5E1Y2Uq1",
        "colab_type": "code",
        "colab": {}
      },
      "source": [
        "class DenseLayer:\n",
        "    def __init__(self, input_size, conv_size, hidden_size, layer_ids, num_layers, zoneout=0.0, dropout=0.0):\n",
        "        self.layers = []\n",
        "        self.num_layers = num_layers\n",
        "        self.hidden_size = hidden_size\n",
        "        self.dropout = dropout\n",
        "        self.layers = [QRNNLayer(hidden_size, conv_size, hidden_size,layer_ids[i], pool='fo', zoneout=zoneout, num_in_channels=i+1) for i in range(num_layers)]\n",
        "\n",
        "    def __call__(self, inputs, train=None):\n",
        "        inputs = tf.layers.dense(tf.transpose(inputs, [0, 1, 3, 2]), self.hidden_size)\n",
        "        inputs = tf.transpose(inputs, [0, 1, 3, 2])\n",
        "        for layer in self.layers:\n",
        "            outputs =  layer(inputs, train=train)\n",
        "            if self.dropout and self.dropout > 0:\n",
        "                keep_prob = 1 - self.dropout\n",
        "                outputs = tf.cond(train, lambda: tf.nn.dropout(outputs, keep_prob), lambda: outputs)\n",
        "            inputs = tf.concat([inputs, outputs], 3)\n",
        "        return tf.squeeze(outputs[:, :, :, -1])"
      ],
      "execution_count": 0,
      "outputs": []
    },
    {
      "cell_type": "code",
      "metadata": {
        "id": "2NP2ZGdI2YLw",
        "colab_type": "code",
        "colab": {}
      },
      "source": [
        "def get_embeddings(vocab, path, dim = 300):\n",
        "    vocab_dict = {word: int(_id) for _id, word in vocab.items()}\n",
        "    embed_id = path.split('.')[-2]\n",
        "    if embed_id+'_imdb.json' not in os.listdir('.'):\n",
        "        embeds = {}\n",
        "        with open(path, encoding=\"utf8\") as f:\n",
        "            for line in f:\n",
        "                split = line.split()\n",
        "                word = split[0].encode('utf-8').lower()\n",
        "                vec = split[1:]\n",
        "                if word in vocab_dict.keys():\n",
        "                    embeds[vocab_dict[word]] = list(map(float,vec))\n",
        "        with open(embed_id+'_imdb.json', 'w') as f:\n",
        "            f.write(json.dumps(embeds))\n",
        "    else:\n",
        "        with open(embed_id+'_imdb.json') as f:\n",
        "            embeds = {int(_id): word for _id, word in json.loads(f.read()).items()}\n",
        "    embed_list = []\n",
        "    for i in range(3):\n",
        "        var = tf.Variable(tf.contrib.layers.xavier_initializer()(shape=[dim]), dtype=tf.float32)\n",
        "        embed_list.append(var)\n",
        "    for _id, word in vocab.items():\n",
        "        if int(_id) in embeds.keys(): embed_list.append(tf.constant(embeds[_id], dtype=tf.float32))\n",
        "        else: embed_list.append(embed_list[2])\n",
        "    return tf.stack(embed_list, axis=0)\n",
        "\n",
        "class imdbDataset(Dataset):\n",
        "    def __init__(self, dataset, seq_len=100):\n",
        "        self.x = dataset[0]\n",
        "        self.pad_inputs(seq_len)\n",
        "        self.get_masks(seq_len)\n",
        "        self.y = dataset[1]\n",
        "\n",
        "    def pad_inputs(self, seq_len):\n",
        "        new_xs = []\n",
        "        for x in self.x:\n",
        "            if len(x) > seq_len: x = x[:seq_len]\n",
        "            elif len(x) < seq_len: x += [0] * (seq_len - len(x))\n",
        "            assert len(x) == seq_len\n",
        "            new_xs.append(x)\n",
        "        self.x = new_xs\n",
        "\n",
        "    def get_masks(self, seq_len):\n",
        "        self.masks = []\n",
        "        for x in self.x:\n",
        "            mask = [1.0 * (x_i != 0) for x_i in x]\n",
        "            assert len(mask) == seq_len\n",
        "            self.masks.append(mask)\n",
        "\n",
        "    def __len__(self):\n",
        "        return len(self.x)\n",
        "\n",
        "    def __getitem__(self, i):\n",
        "        return self.x[i], self.masks[i], self.y[i]\n",
        "\n",
        "def get_datasets(batch_size=100, num_words=1000, seq_len=100):\n",
        "    train, test = imdb.load_data(num_words=num_words)\n",
        "    vocab = imdb.get_word_index()\n",
        "    vocab = {int(_id): word.encode('utf-8').lower() for word, _id in vocab.items() if _id <= num_words}\n",
        "    train = imdbDataset(train, seq_len=seq_len)\n",
        "    n = int(len(test[0])/2)\n",
        "    val = imdbDataset((test[0][0:n], test[1][0:n]), seq_len=seq_len)\n",
        "    test = imdbDataset((test[0][n:], test[1][n:]), seq_len=seq_len)\n",
        "    if os.path.isfile('./glove.6B.300d.txt')==False:\n",
        "            !wget http://nlp.stanford.edu/data/glove.6B.zip\n",
        "            !unzip glove*.zip\n",
        "    return (DataLoader(train, batch_size), DataLoader(val, batch_size), DataLoader(test, batch_size), vocab)"
      ],
      "execution_count": 0,
      "outputs": []
    },
    {
      "cell_type": "code",
      "metadata": {
        "id": "7nqXE0P_26DH",
        "colab_type": "code",
        "colab": {}
      },
      "source": [
        "def run(model, sess, dataset, train=False):\n",
        "    mean_accuracy = 0.0\n",
        "    mean_loss = 0.0\n",
        "    for x, masks, y in dataset:\n",
        "        input_feed = {\n",
        "            model.inputs: np.array([i.numpy() for i in x]).T,\n",
        "            model.masks: np.array([i.numpy() for i in masks]).T,\n",
        "            model.labels: np.array([i.numpy() for i in y]).T,\n",
        "            model.train: train\n",
        "        }\n",
        "\n",
        "        if train:\n",
        "            output_feed = [model.cost, model.accuracy, model.op]\n",
        "            loss, accuracy, _ = sess.run(output_feed, input_feed)\n",
        "        else:\n",
        "            output_feed = [model.cost, model.accuracy]\n",
        "            loss, accuracy = sess.run(output_feed, input_feed)\n",
        "        mean_loss += loss\n",
        "        mean_accuracy += accuracy\n",
        "\n",
        "    mean_loss /= len(dataset)\n",
        "    mean_accuracy /= len(dataset)\n",
        "    return mean_loss, mean_accuracy"
      ],
      "execution_count": 0,
      "outputs": []
    },
    {
      "cell_type": "code",
      "metadata": {
        "id": "dOO-O4jB2-Fo",
        "colab_type": "code",
        "colab": {}
      },
      "source": [
        "tf.reset_default_graph()\n",
        "NUM_EPOCHS = 10\n",
        "BATCH_SIZE = 25\n",
        "SEQ_LEN = 400\n",
        "VOCAB_SIZE = 68379\n",
        "\n",
        "trainset, valset, testset, vocab = get_datasets(BATCH_SIZE,VOCAB_SIZE,SEQ_LEN)\n",
        "embeddings = get_embeddings(vocab, './glove.6B.300d.txt')\n",
        "model = DenseModel(embeddings, BATCH_SIZE, SEQ_LEN, VOCAB_SIZE)\n",
        "saver = tf.train.Saver()"
      ],
      "execution_count": 0,
      "outputs": []
    },
    {
      "cell_type": "code",
      "metadata": {
        "id": "hH6cQD8vXZyX",
        "colab_type": "code",
        "outputId": "447f0870-8eb7-4160-f511-96e37c548090",
        "colab": {
          "base_uri": "https://localhost:8080/",
          "height": 562
        }
      },
      "source": [
        "tr_loss = []\n",
        "tr_acc = []\n",
        "vl_loss = []\n",
        "vl_acc = []\n",
        "with tf.Session() as sess:\n",
        "    sess.run(tf.global_variables_initializer())\n",
        "    epoch = model.epoch.eval()\n",
        "    for i in range(epoch, NUM_EPOCHS):\n",
        "        train_loss, train_acc = run(model, sess, trainset, train=True)\n",
        "        tr_acc.append(train_acc)\n",
        "        tr_loss.append(train_loss)\n",
        "        val_loss, val_acc = run(model, sess, valset, train=True)\n",
        "        vl_acc.append(val_acc)\n",
        "        vl_loss.append(val_loss)\n",
        "        print ('epoch: ', i, 'train loss: ', train_loss, 'train acc: ', train_acc, 'val loss: ', val_loss, 'val acc: ', val_acc)\n",
        "        sess.run(tf.assign(model.epoch, i+1))\n",
        "    saver.save(sess, 'checkpoints',write_state=True)"
      ],
      "execution_count": 21,
      "outputs": [
        {
          "output_type": "stream",
          "text": [
            "epoch:  0 train loss:  0.6917249321937561 train acc:  0.5193600255250931 val loss:  0.6876569604873657 val acc:  0.553840024471283\n",
            "epoch:  1 train loss:  0.6810762572288513 train acc:  0.5745200264453888 val loss:  0.6762374711036682 val acc:  0.5843200349807739\n",
            "epoch:  2 train loss:  0.6683268702030182 train acc:  0.5990400338172912 val loss:  0.6634389400482178 val acc:  0.6104800295829773\n",
            "epoch:  3 train loss:  0.6552047657966614 train acc:  0.6248800337314606 val loss:  0.6513497447967529 val acc:  0.6296000289916992\n",
            "epoch:  4 train loss:  0.6438039743900299 train acc:  0.6402800273895264 val loss:  0.6394701313972473 val acc:  0.6448800301551819\n",
            "epoch:  5 train loss:  0.6339041721820832 train acc:  0.6533600306510925 val loss:  0.6291228652000427 val acc:  0.6598400354385376\n",
            "epoch:  6 train loss:  0.6248650193214417 train acc:  0.6622400307655334 val loss:  0.62214608669281 val acc:  0.6696800303459167\n",
            "epoch:  7 train loss:  0.6158512985706329 train acc:  0.6716000306606292 val loss:  0.6175631546974182 val acc:  0.66944002866745\n",
            "epoch:  8 train loss:  0.6109263682365418 train acc:  0.6786000347137451 val loss:  0.6106313610076904 val acc:  0.6732800316810608\n",
            "epoch:  9 train loss:  0.6063397538661957 train acc:  0.6837600290775299 val loss:  0.6040752840042114 val acc:  0.6832000303268433\n",
            "epoch:  10 train loss:  0.6018115377426148 train acc:  0.6854000294208527 val loss:  0.600770366191864 val acc:  0.6871200323104858\n",
            "epoch:  11 train loss:  0.5974872791767121 train acc:  0.6922800290584564 val loss:  0.6013890075683593 val acc:  0.6912000298500061\n",
            "epoch:  12 train loss:  0.5923780059814453 train acc:  0.6968800330162048 val loss:  0.5970665574073791 val acc:  0.6895200395584107\n",
            "epoch:  13 train loss:  0.5890661334991455 train acc:  0.6990400350093842 val loss:  0.5973341226577759 val acc:  0.6957600283622741\n",
            "epoch:  14 train loss:  0.5875525438785553 train acc:  0.701840033531189 val loss:  0.589378342628479 val acc:  0.6992000389099121\n",
            "epoch:  15 train loss:  0.5851815056800842 train acc:  0.7017600321769715 val loss:  0.5873089051246643 val acc:  0.7036000347137451\n",
            "epoch:  16 train loss:  0.5805127656459809 train acc:  0.708920031785965 val loss:  0.5852300357818604 val acc:  0.6986400389671326\n",
            "epoch:  17 train loss:  0.5780222582817077 train acc:  0.7088800323009491 val loss:  0.5812484049797058 val acc:  0.7024000287055969\n",
            "epoch:  18 train loss:  0.5767926156520844 train acc:  0.7111200356483459 val loss:  0.5764219212532044 val acc:  0.7081600332260132\n",
            "epoch:  19 train loss:  0.5739273655414582 train acc:  0.7109200334548951 val loss:  0.5761581301689148 val acc:  0.712480034828186\n",
            "epoch:  20 train loss:  0.570707437992096 train acc:  0.7162000358104705 val loss:  0.5703616499900818 val acc:  0.7128800344467163\n",
            "epoch:  21 train loss:  0.5678958022594451 train acc:  0.7163200306892396 val loss:  0.5677412748336792 val acc:  0.7142400336265564\n",
            "epoch:  22 train loss:  0.5652353274822235 train acc:  0.7182400333881378 val loss:  0.565260705947876 val acc:  0.7179200267791748\n",
            "epoch:  23 train loss:  0.5583498287200928 train acc:  0.7270800292491912 val loss:  0.5699738597869873 val acc:  0.7121600341796875\n",
            "epoch:  24 train loss:  0.5594084882736206 train acc:  0.7248800337314606 val loss:  0.5550915336608887 val acc:  0.7229600310325622\n",
            "epoch:  25 train loss:  0.5602845811843872 train acc:  0.7212400341033935 val loss:  0.557545223236084 val acc:  0.724800033569336\n",
            "epoch:  26 train loss:  0.5557633101940155 train acc:  0.7265200328826904 val loss:  0.5572940373420715 val acc:  0.7253600311279297\n",
            "epoch:  27 train loss:  0.5521254312992095 train acc:  0.7287200331687927 val loss:  0.5511004662513733 val acc:  0.7297600388526917\n",
            "epoch:  28 train loss:  0.5518892753124237 train acc:  0.7284800362586975 val loss:  0.5516482067108154 val acc:  0.7315200281143188\n",
            "epoch:  29 train loss:  0.5481371557712555 train acc:  0.7310000336170197 val loss:  0.549988067150116 val acc:  0.7329600310325622\n"
          ],
          "name": "stdout"
        }
      ]
    },
    {
      "cell_type": "code",
      "metadata": {
        "id": "csetqd98Ofie",
        "colab_type": "code",
        "outputId": "ad92125b-8361-4fbf-9573-98d253beffee",
        "colab": {
          "base_uri": "https://localhost:8080/",
          "height": 53
        }
      },
      "source": [
        "with tf.Session() as sess:\n",
        "    sess.run(tf.global_variables_initializer())\n",
        "    saver.restore(sess, tf.train.get_checkpoint_state('').model_checkpoint_path)\n",
        "    test_loss, test_acc = run(model, sess, testset)\n",
        "    print ('test loss: ', test_loss, 'test acc: ', test_acc)"
      ],
      "execution_count": 22,
      "outputs": [
        {
          "output_type": "stream",
          "text": [
            "INFO:tensorflow:Restoring parameters from checkpoints\n",
            "test loss:  0.55588800907135 test acc:  0.7230400323867798\n"
          ],
          "name": "stdout"
        }
      ]
    },
    {
      "cell_type": "code",
      "metadata": {
        "id": "lnTipD1QSrkO",
        "colab_type": "code",
        "colab": {}
      },
      "source": [
        "def plot_performance(train, val, label):\n",
        "    plt.plot(train)\n",
        "    plt.plot(val)\n",
        "    plt.ylabel(label)\n",
        "    plt.xlabel('epoch')\n",
        "    plt.legend(['train', 'val'], loc='upper left')\n",
        "    plt.grid()\n",
        "    plt.show()"
      ],
      "execution_count": 0,
      "outputs": []
    },
    {
      "cell_type": "code",
      "metadata": {
        "id": "ebKhMrkZ0RPN",
        "colab_type": "code",
        "colab": {
          "base_uri": "https://localhost:8080/",
          "height": 279
        },
        "outputId": "f03f70aa-e83b-42f6-880a-1c486c31bbf3"
      },
      "source": [
        "import matplotlib.pyplot as plt\n",
        "plot_performance(tr_acc, vl_acc, 'acc')"
      ],
      "execution_count": 24,
      "outputs": [
        {
          "output_type": "display_data",
          "data": {
            "image/png": "[encoded data removed]",
            "text/plain": [
              "<Figure size 432x288 with 1 Axes>"
            ]
          },
          "metadata": {
            "tags": [],
            "needs_background": "light"
          }
        }
      ]
    },
    {
      "cell_type": "code",
      "metadata": {
        "id": "sZONe92J4fKj",
        "colab_type": "code",
        "colab": {
          "base_uri": "https://localhost:8080/",
          "height": 279
        },
        "outputId": "ebbfd398-453b-429d-a5ad-3238920f6f53"
      },
      "source": [
        "plot_performance(tr_loss, vl_loss, 'loss')"
      ],
      "execution_count": 25,
      "outputs": [
        {
          "output_type": "display_data",
          "data": {
            "image/png": "[encoded data removed]",
            "text/plain": [
              "<Figure size 432x288 with 1 Axes>"
            ]
          },
          "metadata": {
            "tags": [],
            "needs_background": "light"
          }
        }
      ]
    },
    {
      "cell_type": "code",
      "metadata": {
        "id": "A_Odwi4U67YX",
        "colab_type": "code",
        "colab": {}
      },
      "source": [
        ""
      ],
      "execution_count": 0,
      "outputs": []
    }
  ]
}