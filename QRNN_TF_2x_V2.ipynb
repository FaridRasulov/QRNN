{
  "nbformat": 4,
  "nbformat_minor": 0,
  "metadata": {
    "colab": {
      "name": "QRNN.ipynb",
      "provenance": [],
      "collapsed_sections": [],
      "include_colab_link": true
    },
    "kernelspec": {
      "name": "python3",
      "display_name": "Python 3"
    }
  },
  "cells": [
    {
      "cell_type": "markdown",
      "metadata": {
        "id": "view-in-github",
        "colab_type": "text"
      },
      "source": [
        "<a href=\"https://colab.research.google.com/github/FaridRasulov/QRNN/blob/master/QRNN_TF_2x_V2.ipynb\" target=\"_parent\"><img src=\"https://colab.research.google.com/assets/colab-badge.svg\" alt=\"Open In Colab\"/></a>"
      ]
    },
    {
      "cell_type": "code",
      "metadata": {
        "id": "jUGQa7rK2Fbe",
        "colab_type": "code",
        "outputId": "5ea9eff2-ab7c-46da-d8b6-0820b05be897",
        "colab": {
          "base_uri": "https://localhost:8080/",
          "height": 72
        }
      },
      "source": [
        "import os\n",
        "import os.path\n",
        "import sys\n",
        "import json\n",
        "import numpy as np\n",
        "import tensorflow as tf\n",
        "from keras.datasets import imdb\n",
        "from torch.utils.data import Dataset, DataLoader\n",
        "from google.colab import drive\n",
        "drive.mount('/content/gdrive')\n",
        "tf.test.gpu_device_name()"
      ],
      "execution_count": 1,
      "outputs": [
        {
          "output_type": "stream",
          "text": [
            "Using TensorFlow backend.\n"
          ],
          "name": "stderr"
        },
        {
          "output_type": "stream",
          "text": [
            "Drive already mounted at /content/gdrive; to attempt to forcibly remount, call drive.mount(\"/content/gdrive\", force_remount=True).\n"
          ],
          "name": "stdout"
        },
        {
          "output_type": "execute_result",
          "data": {
            "text/plain": [
              "''"
            ]
          },
          "metadata": {
            "tags": []
          },
          "execution_count": 1
        }
      ]
    },
    {
      "cell_type": "code",
      "metadata": {
        "id": "yStMJXTUXUgB",
        "colab_type": "code",
        "outputId": "375ab741-3740-4f41-a487-410337bba6d0",
        "colab": {
          "base_uri": "https://localhost:8080/",
          "height": 35
        }
      },
      "source": [
        "tf.__version__"
      ],
      "execution_count": 2,
      "outputs": [
        {
          "output_type": "execute_result",
          "data": {
            "text/plain": [
              "'2.2.0-rc4'"
            ]
          },
          "metadata": {
            "tags": []
          },
          "execution_count": 2
        }
      ]
    },
    {
      "cell_type": "markdown",
      "metadata": {
        "id": "G8fwi6rtmvfN",
        "colab_type": "text"
      },
      "source": [
        "**Step 1: Apply convolutions to compute intermediate vectors and gating vectors**\n",
        "\n",
        "QRNNs use a regular convolution layer1 in the timestep dimension to compute three vectors for each input: a candidate vector, a forget gate, and an output gate. More specifically, given an input sequence of n-dimensional vectors x_1, x_2, ... x_T , the convolution layer for the candidate vectors with m filters produces a sequence of T m-dimensional output vectors z_1, z_2, ..., z_T . The same goes for the forget gates and output gates. The precise equations are"
      ]
    },
    {
      "cell_type": "code",
      "metadata": {
        "id": "ePRsK3392LdN",
        "colab_type": "code",
        "colab": {}
      },
      "source": [
        "class DenseModel:\n",
        "    \n",
        "    def __init__(self, embeddings, BATCH_SIZE, SEQ_LEN, num_layers, input_size, hidden_size, conv_size, zoneout=0.1, dropout = 0.3, num_in_channels = 1):\n",
        "        self.batch_size = BATCH_SIZE\n",
        "        self.seq_len = SEQ_LEN\n",
        "        self.embeddings = embeddings\n",
        "        self.num_layers = num_layers\n",
        "        self.input_size = input_size\n",
        "        self.hidden_size = hidden_size\n",
        "        self.conv_size = conv_size\n",
        "        self.dropout = dropout\n",
        "        self.zoneout = zoneout\n",
        "        self.W_0 = tf.Variable(tf.random.normal([conv_size, hidden_size, num_in_channels+0, hidden_size*3]), trainable=True)\n",
        "        self.W_1 = tf.Variable(tf.random.normal([conv_size, hidden_size, num_in_channels+1, hidden_size*3]), trainable=True)\n",
        "        self.W_2 = tf.Variable(tf.random.normal([conv_size, hidden_size, num_in_channels+2, hidden_size*3]), trainable=True)\n",
        "        self.W_3 = tf.Variable(tf.random.normal([conv_size, hidden_size, num_in_channels+3, hidden_size*3]), trainable=True)\n",
        "        self.b_0 = tf.Variable(tf.random.normal([hidden_size*(3)]), trainable=True)\n",
        "        self.b_1 = tf.Variable(tf.random.normal([hidden_size*(3)]), trainable=True)\n",
        "        self.b_2 = tf.Variable(tf.random.normal([hidden_size*(3)]), trainable=True)\n",
        "        self.b_3 = tf.Variable(tf.random.normal([hidden_size*(3)]), trainable=True)\n",
        "        self.weights = [self.W_0, self.W_1, self.W_2, self.W_3]\n",
        "        self.biases = [self.b_0, self.b_1, self.b_2, self.b_3]\n",
        "\n",
        "    def __call__(self, inputs, masks, train):\n",
        "        x = tf.expand_dims(tf.nn.embedding_lookup(self.embeddings, inputs), -1)\n",
        "        x = self.DenseLayer(x, self.weights, self.biases, train=train)\n",
        "        x = tf.transpose(tf.cast(x,dtype='float64'), perm=[1, 0, 2])\n",
        "        outputs = tf.reduce_mean(x * tf.expand_dims(masks, -1), 1)\n",
        "        logits = tf.keras.layers.Dense(2, dtype='float64')(tf.squeeze(outputs))\n",
        "        pred = tf.argmax(tf.nn.softmax(logits), -1)        \n",
        "        return pred, logits\n",
        "\n",
        "    def DenseLayer(self, inputs, weights, biases, train):\n",
        "        inputs = tf.keras.layers.Dense(self.hidden_size)(tf.transpose(inputs, [0, 1, 3, 2]))\n",
        "        inputs = tf.transpose(inputs, [1, 0, 3, 2])\n",
        "        for wb in zip(weights, biases):\n",
        "            outputs = self.Layer(inputs, wb[0], wb[1], train=train)\n",
        "            outputs = tf.nn.dropout(outputs, 1 - self.dropout) if train else outputs\n",
        "            inputs = tf.concat([inputs, outputs], 3)\n",
        "        return tf.squeeze(outputs[:, :, :, -1])\n",
        "\n",
        "    def Layer(self, inputs, W, b, train):\n",
        "        padded_inputs = tf.pad(inputs, [[0, 0], [self.conv_size - 1, 0], [0, 0], [0, 0]], \"CONSTANT\")\n",
        "        conv = tf.nn.conv2d(padded_inputs, W, strides=[1, 1, 1, 1],padding='VALID') + b\n",
        "        gates = tf.split(conv, 3, 3)\n",
        "        F = gates[2]\n",
        "        F = 1-tf.nn.dropout(F, 1-self.zoneout)if train else F\n",
        "        gates[2] = F\n",
        "        gates[0] = tf.tanh(gates[0])\n",
        "        for i in range(1, len(gates)):\n",
        "            gates[i] = tf.sigmoid(gates[i])\n",
        "        Z, F, O = gates\n",
        "        Z = tf.unstack(Z, axis=1)\n",
        "        F = tf.unstack(F, axis=1)\n",
        "        O = tf.unstack(O, axis=1)\n",
        "        C = [tf.zeros(tf.shape(Z[0]), tf.float32)] # #\n",
        "        H = []\n",
        "        for i in range(len(Z)):\n",
        "            c = tf.multiply(F[i], C[-1]) + tf.multiply(1-F[i], Z[i])\n",
        "            h = tf.multiply(O[i], c)\n",
        "            C.append(c)\n",
        "            H.append(h)\n",
        "        H = tf.stack(H, axis=1)\n",
        "        return tf.transpose(H, perm=[0, 1, 3, 2])"
      ],
      "execution_count": 0,
      "outputs": []
    },
    {
      "cell_type": "code",
      "metadata": {
        "id": "dOO-O4jB2-Fo",
        "colab_type": "code",
        "colab": {}
      },
      "source": [
        "NUM_EPOCHS = 1\n",
        "BATCH_SIZE = 25\n",
        "SEQ_LEN = 10\n",
        "VOCAB_SIZE = 50\n",
        "num_layers = 4\n",
        "input_size = 300\n",
        "num_convs = 256\n",
        "conv_size = 2\n",
        "\n",
        "trainset, valset, testset, vocab = get_datasets(BATCH_SIZE,VOCAB_SIZE,SEQ_LEN)\n",
        "embeddings = get_embeddings(vocab, './gdrive/My Drive/glove.6B.300d.txt')\n",
        "model = DenseModel(embeddings, BATCH_SIZE, SEQ_LEN, num_layers, input_size, num_convs, conv_size)"
      ],
      "execution_count": 0,
      "outputs": []
    },
    {
      "cell_type": "code",
      "metadata": {
        "id": "MDbW3CckB8M0",
        "colab_type": "code",
        "colab": {}
      },
      "source": [
        "optimizer = tf.keras.optimizers.RMSprop(learning_rate=0.001)\n",
        "loss_object = tf.keras.losses.SparseCategoricalCrossentropy(from_logits=True)\n",
        "\n",
        "loss_history = []\n",
        "acc_history = []\n",
        "\n",
        "@tf.function\n",
        "def train_step(model, x, masks, y):\n",
        "    print('Kuku')\n",
        "    inputs = np.array([i.numpy() for i in x]).T\n",
        "    masks = np.array([i.numpy() for i in masks]).T\n",
        "    labels = np.array([i.numpy() for i in y]).T\n",
        "\n",
        "    with tf.GradientTape() as tape:\n",
        "      print('GradKuku')\n",
        "      pred, logits = model(inputs, masks, train=True)\n",
        "      print('GradKuk')\n",
        "      print('logits: ', logits)\n",
        "      loss_value = tf.nn.sparse_softmax_cross_entropy_with_logits(logits=logits, labels=labels)\n",
        "      print('loss_value: ',loss_value)\n",
        "      cost = tf.reduce_sum(loss_value)/BATCH_SIZE\n",
        "      correct_prediction = tf.equal(tf.cast(pred, tf.int32), labels)\n",
        "      acc_value = tf.reduce_sum(tf.cast(correct_prediction,tf.float32))/BATCH_SIZE\n",
        "\n",
        "\n",
        "    loss_history.append(acc_value)\n",
        "    acc_history.append(acc_value)\n",
        "    print('GradKu')\n",
        "    grads = tape.gradient(loss_value, [model.W_0, model.W_1, model.W_2, model.W_3]+[model.b_0, model.b_1, model.b_2, model.b_3])\n",
        "    print('GradK')\n",
        "    optimizer.apply_gradients(zip(grads, [model.W_0, model.W_1, model.W_2, model.W_3]+[model.b_0, model.b_1, model.b_2, model.b_3]))\n",
        "    print('Grad')"
      ],
      "execution_count": 0,
      "outputs": []
    },
    {
      "cell_type": "code",
      "metadata": {
        "id": "lxImLmeD0GL4",
        "colab_type": "code",
        "outputId": "24525781-483e-4b73-e8cf-28679a811757",
        "colab": {
          "base_uri": "https://localhost:8080/",
          "height": 1000
        }
      },
      "source": [
        "for epoch in range(3):\n",
        "    for x, masks, y in trainset:\n",
        "      train_step(model, x, masks, y)\n",
        "    print ('Epoch {} finished'.format(epoch))"
      ],
      "execution_count": 22,
      "outputs": [
        {
          "output_type": "stream",
          "text": [
            "Kuku\n",
            "GradKuku\n",
            "GradKuk\n",
            "logits:  Tensor(\"dense_1/BiasAdd:0\", shape=(25, 2), dtype=float64)\n",
            "loss_value:  Tensor(\"SparseSoftmaxCrossEntropyWithLogits/SparseSoftmaxCrossEntropyWithLogits:0\", shape=(25,), dtype=float64)\n",
            "GradKu\n",
            "GradK\n",
            "Grad\n",
            "Kuku\n",
            "GradKuku\n"
          ],
          "name": "stdout"
        },
        {
          "output_type": "error",
          "ename": "ValueError",
          "evalue": "ignored",
          "traceback": [
            "\u001b[0;31m---------------------------------------------------------------------------\u001b[0m",
            "\u001b[0;31mValueError\u001b[0m                                Traceback (most recent call last)",
            "\u001b[0;32m<ipython-input-22-9da356fc070a>\u001b[0m in \u001b[0;36m<module>\u001b[0;34m()\u001b[0m\n\u001b[1;32m      1\u001b[0m \u001b[0;32mfor\u001b[0m \u001b[0mepoch\u001b[0m \u001b[0;32min\u001b[0m \u001b[0mrange\u001b[0m\u001b[0;34m(\u001b[0m\u001b[0;36m3\u001b[0m\u001b[0;34m)\u001b[0m\u001b[0;34m:\u001b[0m\u001b[0;34m\u001b[0m\u001b[0;34m\u001b[0m\u001b[0m\n\u001b[1;32m      2\u001b[0m     \u001b[0;32mfor\u001b[0m \u001b[0mx\u001b[0m\u001b[0;34m,\u001b[0m \u001b[0mmasks\u001b[0m\u001b[0;34m,\u001b[0m \u001b[0my\u001b[0m \u001b[0;32min\u001b[0m \u001b[0mtrainset\u001b[0m\u001b[0;34m:\u001b[0m\u001b[0;34m\u001b[0m\u001b[0;34m\u001b[0m\u001b[0m\n\u001b[0;32m----> 3\u001b[0;31m       \u001b[0mtrain_step\u001b[0m\u001b[0;34m(\u001b[0m\u001b[0mmodel\u001b[0m\u001b[0;34m,\u001b[0m \u001b[0mx\u001b[0m\u001b[0;34m,\u001b[0m \u001b[0mmasks\u001b[0m\u001b[0;34m,\u001b[0m \u001b[0my\u001b[0m\u001b[0;34m)\u001b[0m\u001b[0;34m\u001b[0m\u001b[0;34m\u001b[0m\u001b[0m\n\u001b[0m\u001b[1;32m      4\u001b[0m     \u001b[0mprint\u001b[0m \u001b[0;34m(\u001b[0m\u001b[0;34m'Epoch {} finished'\u001b[0m\u001b[0;34m.\u001b[0m\u001b[0mformat\u001b[0m\u001b[0;34m(\u001b[0m\u001b[0mepoch\u001b[0m\u001b[0;34m)\u001b[0m\u001b[0;34m)\u001b[0m\u001b[0;34m\u001b[0m\u001b[0;34m\u001b[0m\u001b[0m\n",
            "\u001b[0;32m/usr/local/lib/python3.6/dist-packages/tensorflow/python/eager/def_function.py\u001b[0m in \u001b[0;36m__call__\u001b[0;34m(self, *args, **kwds)\u001b[0m\n\u001b[1;32m    578\u001b[0m         \u001b[0mxla_context\u001b[0m\u001b[0;34m.\u001b[0m\u001b[0mExit\u001b[0m\u001b[0;34m(\u001b[0m\u001b[0;34m)\u001b[0m\u001b[0;34m\u001b[0m\u001b[0;34m\u001b[0m\u001b[0m\n\u001b[1;32m    579\u001b[0m     \u001b[0;32melse\u001b[0m\u001b[0;34m:\u001b[0m\u001b[0;34m\u001b[0m\u001b[0;34m\u001b[0m\u001b[0m\n\u001b[0;32m--> 580\u001b[0;31m       \u001b[0mresult\u001b[0m \u001b[0;34m=\u001b[0m \u001b[0mself\u001b[0m\u001b[0;34m.\u001b[0m\u001b[0m_call\u001b[0m\u001b[0;34m(\u001b[0m\u001b[0;34m*\u001b[0m\u001b[0margs\u001b[0m\u001b[0;34m,\u001b[0m \u001b[0;34m**\u001b[0m\u001b[0mkwds\u001b[0m\u001b[0;34m)\u001b[0m\u001b[0;34m\u001b[0m\u001b[0;34m\u001b[0m\u001b[0m\n\u001b[0m\u001b[1;32m    581\u001b[0m \u001b[0;34m\u001b[0m\u001b[0m\n\u001b[1;32m    582\u001b[0m     \u001b[0;32mif\u001b[0m \u001b[0mtracing_count\u001b[0m \u001b[0;34m==\u001b[0m \u001b[0mself\u001b[0m\u001b[0;34m.\u001b[0m\u001b[0m_get_tracing_count\u001b[0m\u001b[0;34m(\u001b[0m\u001b[0;34m)\u001b[0m\u001b[0;34m:\u001b[0m\u001b[0;34m\u001b[0m\u001b[0;34m\u001b[0m\u001b[0m\n",
            "\u001b[0;32m/usr/local/lib/python3.6/dist-packages/tensorflow/python/eager/def_function.py\u001b[0m in \u001b[0;36m_call\u001b[0;34m(self, *args, **kwds)\u001b[0m\n\u001b[1;32m    642\u001b[0m         \u001b[0;31m# Lifting succeeded, so variables are initialized and we can run the\u001b[0m\u001b[0;34m\u001b[0m\u001b[0;34m\u001b[0m\u001b[0;34m\u001b[0m\u001b[0m\n\u001b[1;32m    643\u001b[0m         \u001b[0;31m# stateless function.\u001b[0m\u001b[0;34m\u001b[0m\u001b[0;34m\u001b[0m\u001b[0;34m\u001b[0m\u001b[0m\n\u001b[0;32m--> 644\u001b[0;31m         \u001b[0;32mreturn\u001b[0m \u001b[0mself\u001b[0m\u001b[0;34m.\u001b[0m\u001b[0m_stateless_fn\u001b[0m\u001b[0;34m(\u001b[0m\u001b[0;34m*\u001b[0m\u001b[0margs\u001b[0m\u001b[0;34m,\u001b[0m \u001b[0;34m**\u001b[0m\u001b[0mkwds\u001b[0m\u001b[0;34m)\u001b[0m\u001b[0;34m\u001b[0m\u001b[0;34m\u001b[0m\u001b[0m\n\u001b[0m\u001b[1;32m    645\u001b[0m     \u001b[0;32melse\u001b[0m\u001b[0;34m:\u001b[0m\u001b[0;34m\u001b[0m\u001b[0;34m\u001b[0m\u001b[0m\n\u001b[1;32m    646\u001b[0m       \u001b[0mcanon_args\u001b[0m\u001b[0;34m,\u001b[0m \u001b[0mcanon_kwds\u001b[0m \u001b[0;34m=\u001b[0m\u001b[0;31m \u001b[0m\u001b[0;31m\\\u001b[0m\u001b[0;34m\u001b[0m\u001b[0;34m\u001b[0m\u001b[0m\n",
            "\u001b[0;32m/usr/local/lib/python3.6/dist-packages/tensorflow/python/eager/function.py\u001b[0m in \u001b[0;36m__call__\u001b[0;34m(self, *args, **kwargs)\u001b[0m\n\u001b[1;32m   2417\u001b[0m     \u001b[0;34m\"\"\"Calls a graph function specialized to the inputs.\"\"\"\u001b[0m\u001b[0;34m\u001b[0m\u001b[0;34m\u001b[0m\u001b[0m\n\u001b[1;32m   2418\u001b[0m     \u001b[0;32mwith\u001b[0m \u001b[0mself\u001b[0m\u001b[0;34m.\u001b[0m\u001b[0m_lock\u001b[0m\u001b[0;34m:\u001b[0m\u001b[0;34m\u001b[0m\u001b[0;34m\u001b[0m\u001b[0m\n\u001b[0;32m-> 2419\u001b[0;31m       \u001b[0mgraph_function\u001b[0m\u001b[0;34m,\u001b[0m \u001b[0margs\u001b[0m\u001b[0;34m,\u001b[0m \u001b[0mkwargs\u001b[0m \u001b[0;34m=\u001b[0m \u001b[0mself\u001b[0m\u001b[0;34m.\u001b[0m\u001b[0m_maybe_define_function\u001b[0m\u001b[0;34m(\u001b[0m\u001b[0margs\u001b[0m\u001b[0;34m,\u001b[0m \u001b[0mkwargs\u001b[0m\u001b[0;34m)\u001b[0m\u001b[0;34m\u001b[0m\u001b[0;34m\u001b[0m\u001b[0m\n\u001b[0m\u001b[1;32m   2420\u001b[0m     \u001b[0;32mreturn\u001b[0m \u001b[0mgraph_function\u001b[0m\u001b[0;34m.\u001b[0m\u001b[0m_filtered_call\u001b[0m\u001b[0;34m(\u001b[0m\u001b[0margs\u001b[0m\u001b[0;34m,\u001b[0m \u001b[0mkwargs\u001b[0m\u001b[0;34m)\u001b[0m  \u001b[0;31m# pylint: disable=protected-access\u001b[0m\u001b[0;34m\u001b[0m\u001b[0;34m\u001b[0m\u001b[0m\n\u001b[1;32m   2421\u001b[0m \u001b[0;34m\u001b[0m\u001b[0m\n",
            "\u001b[0;32m/usr/local/lib/python3.6/dist-packages/tensorflow/python/eager/function.py\u001b[0m in \u001b[0;36m_maybe_define_function\u001b[0;34m(self, args, kwargs)\u001b[0m\n\u001b[1;32m   2775\u001b[0m \u001b[0;34m\u001b[0m\u001b[0m\n\u001b[1;32m   2776\u001b[0m       \u001b[0mself\u001b[0m\u001b[0;34m.\u001b[0m\u001b[0m_function_cache\u001b[0m\u001b[0;34m.\u001b[0m\u001b[0mmissed\u001b[0m\u001b[0;34m.\u001b[0m\u001b[0madd\u001b[0m\u001b[0;34m(\u001b[0m\u001b[0mcall_context_key\u001b[0m\u001b[0;34m)\u001b[0m\u001b[0;34m\u001b[0m\u001b[0;34m\u001b[0m\u001b[0m\n\u001b[0;32m-> 2777\u001b[0;31m       \u001b[0mgraph_function\u001b[0m \u001b[0;34m=\u001b[0m \u001b[0mself\u001b[0m\u001b[0;34m.\u001b[0m\u001b[0m_create_graph_function\u001b[0m\u001b[0;34m(\u001b[0m\u001b[0margs\u001b[0m\u001b[0;34m,\u001b[0m \u001b[0mkwargs\u001b[0m\u001b[0;34m)\u001b[0m\u001b[0;34m\u001b[0m\u001b[0;34m\u001b[0m\u001b[0m\n\u001b[0m\u001b[1;32m   2778\u001b[0m       \u001b[0mself\u001b[0m\u001b[0;34m.\u001b[0m\u001b[0m_function_cache\u001b[0m\u001b[0;34m.\u001b[0m\u001b[0mprimary\u001b[0m\u001b[0;34m[\u001b[0m\u001b[0mcache_key\u001b[0m\u001b[0;34m]\u001b[0m \u001b[0;34m=\u001b[0m \u001b[0mgraph_function\u001b[0m\u001b[0;34m\u001b[0m\u001b[0;34m\u001b[0m\u001b[0m\n\u001b[1;32m   2779\u001b[0m       \u001b[0;32mreturn\u001b[0m \u001b[0mgraph_function\u001b[0m\u001b[0;34m,\u001b[0m \u001b[0margs\u001b[0m\u001b[0;34m,\u001b[0m \u001b[0mkwargs\u001b[0m\u001b[0;34m\u001b[0m\u001b[0;34m\u001b[0m\u001b[0m\n",
            "\u001b[0;32m/usr/local/lib/python3.6/dist-packages/tensorflow/python/eager/function.py\u001b[0m in \u001b[0;36m_create_graph_function\u001b[0;34m(self, args, kwargs, override_flat_arg_shapes)\u001b[0m\n\u001b[1;32m   2665\u001b[0m             \u001b[0marg_names\u001b[0m\u001b[0;34m=\u001b[0m\u001b[0marg_names\u001b[0m\u001b[0;34m,\u001b[0m\u001b[0;34m\u001b[0m\u001b[0;34m\u001b[0m\u001b[0m\n\u001b[1;32m   2666\u001b[0m             \u001b[0moverride_flat_arg_shapes\u001b[0m\u001b[0;34m=\u001b[0m\u001b[0moverride_flat_arg_shapes\u001b[0m\u001b[0;34m,\u001b[0m\u001b[0;34m\u001b[0m\u001b[0;34m\u001b[0m\u001b[0m\n\u001b[0;32m-> 2667\u001b[0;31m             capture_by_value=self._capture_by_value),\n\u001b[0m\u001b[1;32m   2668\u001b[0m         \u001b[0mself\u001b[0m\u001b[0;34m.\u001b[0m\u001b[0m_function_attributes\u001b[0m\u001b[0;34m,\u001b[0m\u001b[0;34m\u001b[0m\u001b[0;34m\u001b[0m\u001b[0m\n\u001b[1;32m   2669\u001b[0m         \u001b[0;31m# Tell the ConcreteFunction to clean up its graph once it goes out of\u001b[0m\u001b[0;34m\u001b[0m\u001b[0;34m\u001b[0m\u001b[0;34m\u001b[0m\u001b[0m\n",
            "\u001b[0;32m/usr/local/lib/python3.6/dist-packages/tensorflow/python/framework/func_graph.py\u001b[0m in \u001b[0;36mfunc_graph_from_py_func\u001b[0;34m(name, python_func, args, kwargs, signature, func_graph, autograph, autograph_options, add_control_dependencies, arg_names, op_return_value, collections, capture_by_value, override_flat_arg_shapes)\u001b[0m\n\u001b[1;32m    979\u001b[0m         \u001b[0m_\u001b[0m\u001b[0;34m,\u001b[0m \u001b[0moriginal_func\u001b[0m \u001b[0;34m=\u001b[0m \u001b[0mtf_decorator\u001b[0m\u001b[0;34m.\u001b[0m\u001b[0munwrap\u001b[0m\u001b[0;34m(\u001b[0m\u001b[0mpython_func\u001b[0m\u001b[0;34m)\u001b[0m\u001b[0;34m\u001b[0m\u001b[0;34m\u001b[0m\u001b[0m\n\u001b[1;32m    980\u001b[0m \u001b[0;34m\u001b[0m\u001b[0m\n\u001b[0;32m--> 981\u001b[0;31m       \u001b[0mfunc_outputs\u001b[0m \u001b[0;34m=\u001b[0m \u001b[0mpython_func\u001b[0m\u001b[0;34m(\u001b[0m\u001b[0;34m*\u001b[0m\u001b[0mfunc_args\u001b[0m\u001b[0;34m,\u001b[0m \u001b[0;34m**\u001b[0m\u001b[0mfunc_kwargs\u001b[0m\u001b[0;34m)\u001b[0m\u001b[0;34m\u001b[0m\u001b[0;34m\u001b[0m\u001b[0m\n\u001b[0m\u001b[1;32m    982\u001b[0m \u001b[0;34m\u001b[0m\u001b[0m\n\u001b[1;32m    983\u001b[0m       \u001b[0;31m# invariant: `func_outputs` contains only Tensors, CompositeTensors,\u001b[0m\u001b[0;34m\u001b[0m\u001b[0;34m\u001b[0m\u001b[0;34m\u001b[0m\u001b[0m\n",
            "\u001b[0;32m/usr/local/lib/python3.6/dist-packages/tensorflow/python/eager/def_function.py\u001b[0m in \u001b[0;36mwrapped_fn\u001b[0;34m(*args, **kwds)\u001b[0m\n\u001b[1;32m    439\u001b[0m         \u001b[0;31m# __wrapped__ allows AutoGraph to swap in a converted function. We give\u001b[0m\u001b[0;34m\u001b[0m\u001b[0;34m\u001b[0m\u001b[0;34m\u001b[0m\u001b[0m\n\u001b[1;32m    440\u001b[0m         \u001b[0;31m# the function a weak reference to itself to avoid a reference cycle.\u001b[0m\u001b[0;34m\u001b[0m\u001b[0;34m\u001b[0m\u001b[0;34m\u001b[0m\u001b[0m\n\u001b[0;32m--> 441\u001b[0;31m         \u001b[0;32mreturn\u001b[0m \u001b[0mweak_wrapped_fn\u001b[0m\u001b[0;34m(\u001b[0m\u001b[0;34m)\u001b[0m\u001b[0;34m.\u001b[0m\u001b[0m__wrapped__\u001b[0m\u001b[0;34m(\u001b[0m\u001b[0;34m*\u001b[0m\u001b[0margs\u001b[0m\u001b[0;34m,\u001b[0m \u001b[0;34m**\u001b[0m\u001b[0mkwds\u001b[0m\u001b[0;34m)\u001b[0m\u001b[0;34m\u001b[0m\u001b[0;34m\u001b[0m\u001b[0m\n\u001b[0m\u001b[1;32m    442\u001b[0m     \u001b[0mweak_wrapped_fn\u001b[0m \u001b[0;34m=\u001b[0m \u001b[0mweakref\u001b[0m\u001b[0;34m.\u001b[0m\u001b[0mref\u001b[0m\u001b[0;34m(\u001b[0m\u001b[0mwrapped_fn\u001b[0m\u001b[0;34m)\u001b[0m\u001b[0;34m\u001b[0m\u001b[0;34m\u001b[0m\u001b[0m\n\u001b[1;32m    443\u001b[0m \u001b[0;34m\u001b[0m\u001b[0m\n",
            "\u001b[0;32m/usr/local/lib/python3.6/dist-packages/tensorflow/python/framework/func_graph.py\u001b[0m in \u001b[0;36mwrapper\u001b[0;34m(*args, **kwargs)\u001b[0m\n\u001b[1;32m    966\u001b[0m           \u001b[0;32mexcept\u001b[0m \u001b[0mException\u001b[0m \u001b[0;32mas\u001b[0m \u001b[0me\u001b[0m\u001b[0;34m:\u001b[0m  \u001b[0;31m# pylint:disable=broad-except\u001b[0m\u001b[0;34m\u001b[0m\u001b[0;34m\u001b[0m\u001b[0m\n\u001b[1;32m    967\u001b[0m             \u001b[0;32mif\u001b[0m \u001b[0mhasattr\u001b[0m\u001b[0;34m(\u001b[0m\u001b[0me\u001b[0m\u001b[0;34m,\u001b[0m \u001b[0;34m\"ag_error_metadata\"\u001b[0m\u001b[0;34m)\u001b[0m\u001b[0;34m:\u001b[0m\u001b[0;34m\u001b[0m\u001b[0;34m\u001b[0m\u001b[0m\n\u001b[0;32m--> 968\u001b[0;31m               \u001b[0;32mraise\u001b[0m \u001b[0me\u001b[0m\u001b[0;34m.\u001b[0m\u001b[0mag_error_metadata\u001b[0m\u001b[0;34m.\u001b[0m\u001b[0mto_exception\u001b[0m\u001b[0;34m(\u001b[0m\u001b[0me\u001b[0m\u001b[0;34m)\u001b[0m\u001b[0;34m\u001b[0m\u001b[0;34m\u001b[0m\u001b[0m\n\u001b[0m\u001b[1;32m    969\u001b[0m             \u001b[0;32melse\u001b[0m\u001b[0;34m:\u001b[0m\u001b[0;34m\u001b[0m\u001b[0;34m\u001b[0m\u001b[0m\n\u001b[1;32m    970\u001b[0m               \u001b[0;32mraise\u001b[0m\u001b[0;34m\u001b[0m\u001b[0;34m\u001b[0m\u001b[0m\n",
            "\u001b[0;31mValueError\u001b[0m: in user code:\n\n    <ipython-input-21-476556c4853a>:16 train_step  *\n        pred, logits = model(inputs, masks, train=True)\n    <ipython-input-11-0d3af6624a55>:26 __call__  *\n        x = self.DenseLayer(x, self.weights, self.biases, train=train)\n    <ipython-input-15-c1c4446c3033>:34 DenseLayer  *\n        inputs = tf.keras.layers.Dense(self.hidden_size)(tf.transpose(inputs, [0, 1, 3, 2]))\n    /usr/local/lib/python3.6/dist-packages/tensorflow/python/keras/engine/base_layer.py:897 __call__  **\n        self._maybe_build(inputs)\n    /usr/local/lib/python3.6/dist-packages/tensorflow/python/keras/engine/base_layer.py:2416 _maybe_build\n        self.build(input_shapes)  # pylint:disable=not-callable\n    /usr/local/lib/python3.6/dist-packages/tensorflow/python/keras/layers/core.py:1165 build\n        trainable=True)\n    /usr/local/lib/python3.6/dist-packages/tensorflow/python/keras/engine/base_layer.py:577 add_weight\n        caching_device=caching_device)\n    /usr/local/lib/python3.6/dist-packages/tensorflow/python/training/tracking/base.py:743 _add_variable_with_custom_getter\n        **kwargs_for_getter)\n    /usr/local/lib/python3.6/dist-packages/tensorflow/python/keras/engine/base_layer_utils.py:141 make_variable\n        shape=variable_shape if variable_shape else None)\n    /usr/local/lib/python3.6/dist-packages/tensorflow/python/ops/variables.py:259 __call__\n        return cls._variable_v1_call(*args, **kwargs)\n    /usr/local/lib/python3.6/dist-packages/tensorflow/python/ops/variables.py:220 _variable_v1_call\n        shape=shape)\n    /usr/local/lib/python3.6/dist-packages/tensorflow/python/ops/variables.py:66 getter\n        return captured_getter(captured_previous, **kwargs)\n    /usr/local/lib/python3.6/dist-packages/tensorflow/python/eager/def_function.py:511 invalid_creator_scope\n        \"tf.function-decorated function tried to create \"\n\n    ValueError: tf.function-decorated function tried to create variables on non-first call.\n"
          ]
        }
      ]
    },
    {
      "cell_type": "code",
      "metadata": {
        "id": "2NP2ZGdI2YLw",
        "colab_type": "code",
        "colab": {}
      },
      "source": [
        "def get_embeddings(vocab, path, dim = 300):\n",
        "    vocab_dict = {word: int(_id) for _id, word in vocab.items()}\n",
        "    embed_id = path.split('.')[-2]\n",
        "    if embed_id+'_imdb.json' not in os.listdir('.'):\n",
        "        embeds = {}\n",
        "        with open(path, encoding=\"utf8\") as f:\n",
        "            for line in f:\n",
        "                split = line.split()\n",
        "                word = split[0].encode('utf-8').lower()\n",
        "                vec = split[1:]\n",
        "                if word in vocab_dict.keys():\n",
        "                    embeds[vocab_dict[word]] = list(map(float,vec))\n",
        "        with open(embed_id+'_imdb.json', 'w') as f:\n",
        "            f.write(json.dumps(embeds))\n",
        "    else:\n",
        "        with open(embed_id+'_imdb.json') as f:\n",
        "            embeds = {int(_id): word for _id, word in json.loads(f.read()).items()}\n",
        "    embed_list = []\n",
        "    for i in range(3):\n",
        "        initializer = tf.initializers.GlorotUniform()\n",
        "        var = tf.Variable(initializer(shape=[dim]))\n",
        "        embed_list.append(var)\n",
        "    for _id, word in vocab.items():\n",
        "        if int(_id) in embeds.keys(): embed_list.append(tf.constant(embeds[_id], dtype=tf.float32))\n",
        "        else: embed_list.append(embed_list[2])\n",
        "    return tf.stack(embed_list, axis=0)\n",
        "\n",
        "class imdbDataset(Dataset):\n",
        "    def __init__(self, dataset, seq_len=100):\n",
        "        self.x = dataset[0]\n",
        "        self.pad_inputs(seq_len)\n",
        "        self.get_masks(seq_len)\n",
        "        self.y = dataset[1]\n",
        "\n",
        "    def pad_inputs(self, seq_len):\n",
        "        new_xs = []\n",
        "        for x in self.x:\n",
        "            if len(x) > seq_len: x = x[:seq_len]\n",
        "            elif len(x) < seq_len: x += [0] * (seq_len - len(x))\n",
        "            assert len(x) == seq_len\n",
        "            new_xs.append(x)\n",
        "        self.x = new_xs\n",
        "\n",
        "    def get_masks(self, seq_len):\n",
        "        self.masks = []\n",
        "        for x in self.x:\n",
        "            mask = [1.0 * (x_i != 0) for x_i in x]\n",
        "            assert len(mask) == seq_len\n",
        "            self.masks.append(mask)\n",
        "\n",
        "    def __len__(self):\n",
        "        return len(self.x)\n",
        "\n",
        "    def __getitem__(self, i):\n",
        "        return self.x[i], self.masks[i], self.y[i]\n",
        "\n",
        "def plot_performance(train, val, label):\n",
        "    plt.plot(train)\n",
        "    plt.plot(val)\n",
        "    plt.ylabel(label)\n",
        "    plt.xlabel('epoch')\n",
        "    if label=='acc':\n",
        "      plt.legend(['train', 'val'], loc='lower right')\n",
        "    elif label=='loss':\n",
        "      plt.legend(['train', 'val'], loc='upper right')\n",
        "    plt.grid()\n",
        "    plt.show()\n",
        "\n",
        "def get_datasets(batch_size=100, num_words=1000, seq_len=100):\n",
        "    train, test = imdb.load_data(num_words=num_words)\n",
        "    vocab = imdb.get_word_index()\n",
        "    vocab = {int(_id): word.encode('utf-8').lower() for word, _id in vocab.items() if _id <= num_words}\n",
        "    train = imdbDataset(train, seq_len=seq_len)\n",
        "    n = int(len(test[0])/2)\n",
        "    val = imdbDataset((test[0][0:n], test[1][0:n]), seq_len=seq_len)\n",
        "    test = imdbDataset((test[0][n:], test[1][n:]), seq_len=seq_len)\n",
        "    # if os.path.isfile('./glove.6B.300d.txt')==False:\n",
        "    #         !wget http://nlp.stanford.edu/data/glove.6B.zip\n",
        "    #         !unzip glove*.zip\n",
        "    return (DataLoader(train, batch_size), DataLoader(val, batch_size), DataLoader(test, batch_size), vocab)\n",
        "\n",
        "def convert_to_np(x):\n",
        "    if type(x[0]) == int:\n",
        "        return x.numpy()\n",
        "    else:\n",
        "        return np.array([x_i.numpy() for x_i in x]).T"
      ],
      "execution_count": 0,
      "outputs": []
    },
    {
      "cell_type": "code",
      "metadata": {
        "id": "hH6cQD8vXZyX",
        "colab_type": "code",
        "outputId": "05822df9-850f-4bde-c5f2-83cbd1e2562c",
        "colab": {
          "base_uri": "https://localhost:8080/",
          "height": 144
        }
      },
      "source": [
        "tr_loss = []\n",
        "tr_acc = []\n",
        "vl_loss = []\n",
        "vl_acc = []\n",
        "with tf.Session() as sess:\n",
        "    epoch = model.epoch.eval()\n",
        "    for i in range(epoch, NUM_EPOCHS):\n",
        "        train_loss, train_acc = run(model, sess, trainset, train=True)\n",
        "        tr_acc.append(train_acc)\n",
        "        tr_loss.append(train_loss)\n",
        "        val_loss, val_acc = run(model, sess, valset)\n",
        "        vl_acc.append(val_acc)\n",
        "        vl_loss.append(val_loss)\n",
        "        print('epoch: ', i, 'train loss: ', train_loss, 'train acc: ', train_acc, 'val loss: ', val_loss, 'val acc: ', val_acc)\n",
        "        sess.run(tf.assign(model.epoch, i+1))\n",
        "    saver.save(sess, 'checkpoints',write_state=True)"
      ],
      "execution_count": 0,
      "outputs": [
        {
          "output_type": "stream",
          "text": [
            "epoch:  0 train loss:  0.712325944185257 train acc:  0.5081199871301652 val loss:  0.7009464577436447 val acc:  0.5009599870443344\n",
            "WARNING:tensorflow:Issue encountered when serializing trainable_variables.\n",
            "Type is unsupported, or the types of the items don't match field type in CollectionDef. Note this is a warning and probably safe to ignore.\n",
            "'W' has type str, but expected one of: int, long, bool\n",
            "WARNING:tensorflow:Issue encountered when serializing variables.\n",
            "Type is unsupported, or the types of the items don't match field type in CollectionDef. Note this is a warning and probably safe to ignore.\n",
            "'W' has type str, but expected one of: int, long, bool\n"
          ],
          "name": "stdout"
        }
      ]
    },
    {
      "cell_type": "code",
      "metadata": {
        "id": "5yL4Ysx84tJv",
        "colab_type": "code",
        "outputId": "5a50ba7d-25eb-4a0e-8d67-8d3543e83d5a",
        "colab": {
          "base_uri": "https://localhost:8080/",
          "height": 217
        }
      },
      "source": [
        "with tf.Session() as sess:\n",
        "    sess.run(tf.global_variables_initializer())\n",
        "    saver.restore(sess, tf.train.get_checkpoint_state('').model_checkpoint_path)\n",
        "    epoch = model.epoch.eval()\n",
        "    for i in range(NUM_EPOCHS, NUM_EPOCHS):\n",
        "        train_loss, train_acc = run(model, sess, trainset, train=True)\n",
        "        tr_acc.append(train_acc)\n",
        "        tr_loss.append(train_loss)\n",
        "        val_loss, val_acc = run(model, sess, valset)\n",
        "        vl_acc.append(val_acc)\n",
        "        vl_loss.append(val_loss)\n",
        "        print('epoch: ', i, 'train loss: ', train_loss, 'train acc: ', train_acc, 'val loss: ', val_loss, 'val acc: ', val_acc)\n",
        "        sess.run(tf.assign(model.epoch, i+1))\n",
        "    saver.save(sess, 'checkpoints',write_state=True)"
      ],
      "execution_count": 0,
      "outputs": [
        {
          "output_type": "stream",
          "text": [
            "INFO:tensorflow:Restoring parameters from checkpoints\n",
            "epoch:  10 train loss:  0.5767313345074654 train acc:  0.7058800038993358 val loss:  0.5629765822291374 val acc:  0.7163200035691262\n",
            "epoch:  11 train loss:  0.5697416437864303 train acc:  0.7059200035631656 val loss:  0.5559571363329887 val acc:  0.7183200053572655\n",
            "epoch:  12 train loss:  0.5654054255783558 train acc:  0.7162400041520596 val loss:  0.5451382400989533 val acc:  0.7276000036001206\n",
            "epoch:  13 train loss:  0.5559363066852093 train acc:  0.7223200023174285 val loss:  0.5411429395079612 val acc:  0.7292000037431717\n",
            "epoch:  14 train loss:  0.5544657707214355 train acc:  0.7224400034844876 val loss:  0.5353631137609481 val acc:  0.7361600025892258\n",
            "epoch:  15 train loss:  0.5498119496405125 train acc:  0.7269200032353401 val loss:  0.5405908778905869 val acc:  0.7319200034737587\n",
            "epoch:  16 train loss:  0.5436905031502247 train acc:  0.7331600025594235 val loss:  0.5319896857738495 val acc:  0.741440003991127\n",
            "epoch:  17 train loss:  0.539192643046379 train acc:  0.7353200034201145 val loss:  0.5272803991436958 val acc:  0.73840000385046\n",
            "epoch:  18 train loss:  0.5381601458489895 train acc:  0.7362400026917457 val loss:  0.5333702155947685 val acc:  0.7363200032711029\n",
            "epoch:  19 train loss:  0.5353367163836956 train acc:  0.7394800021350384 val loss:  0.5304239103794098 val acc:  0.7424800027012824\n"
          ],
          "name": "stdout"
        }
      ]
    },
    {
      "cell_type": "code",
      "metadata": {
        "id": "ebKhMrkZ0RPN",
        "colab_type": "code",
        "outputId": "b966249d-3922-4fa7-b99e-a1ec821cc83f",
        "colab": {
          "base_uri": "https://localhost:8080/",
          "height": 279
        }
      },
      "source": [
        "import matplotlib.pyplot as plt\n",
        "plot_performance(tr_acc, vl_acc, 'acc')"
      ],
      "execution_count": 0,
      "outputs": [
        {
          "output_type": "display_data",
          "data": {
            "image/png": "[encoded data removed]",
            "text/plain": [
              "<Figure size 432x288 with 1 Axes>"
            ]
          },
          "metadata": {
            "tags": [],
            "needs_background": "light"
          }
        }
      ]
    },
    {
      "cell_type": "code",
      "metadata": {
        "id": "sZONe92J4fKj",
        "colab_type": "code",
        "outputId": "be9a21ff-6966-4218-e895-63179f6ea2ee",
        "colab": {
          "base_uri": "https://localhost:8080/",
          "height": 279
        }
      },
      "source": [
        "plot_performance(tr_loss, vl_loss, 'loss')"
      ],
      "execution_count": 0,
      "outputs": [
        {
          "output_type": "display_data",
          "data": {
            "image/png": "[encoded data removed]",
            "text/plain": [
              "<Figure size 432x288 with 1 Axes>"
            ]
          },
          "metadata": {
            "tags": [],
            "needs_background": "light"
          }
        }
      ]
    },
    {
      "cell_type": "code",
      "metadata": {
        "id": "WzFr9wb71wg1",
        "colab_type": "code",
        "outputId": "7fc0f557-0220-49bc-f69a-213db7ec68ba",
        "colab": {
          "base_uri": "https://localhost:8080/",
          "height": 189
        }
      },
      "source": [
        "import matplotlib.pyplot as plt\n",
        "plot_performance(tr_acc, vl_acc, 'acc')"
      ],
      "execution_count": 0,
      "outputs": [
        {
          "output_type": "error",
          "ename": "NameError",
          "evalue": "ignored",
          "traceback": [
            "\u001b[0;31m---------------------------------------------------------------------------\u001b[0m",
            "\u001b[0;31mNameError\u001b[0m                                 Traceback (most recent call last)",
            "\u001b[0;32m<ipython-input-1-4868d9198d60>\u001b[0m in \u001b[0;36m<module>\u001b[0;34m()\u001b[0m\n\u001b[1;32m      1\u001b[0m \u001b[0;32mimport\u001b[0m \u001b[0mmatplotlib\u001b[0m\u001b[0;34m.\u001b[0m\u001b[0mpyplot\u001b[0m \u001b[0;32mas\u001b[0m \u001b[0mplt\u001b[0m\u001b[0;34m\u001b[0m\u001b[0;34m\u001b[0m\u001b[0m\n\u001b[0;32m----> 2\u001b[0;31m \u001b[0mplot_performance\u001b[0m\u001b[0;34m(\u001b[0m\u001b[0mtr_acc\u001b[0m\u001b[0;34m,\u001b[0m \u001b[0mvl_acc\u001b[0m\u001b[0;34m,\u001b[0m \u001b[0;34m'acc'\u001b[0m\u001b[0;34m)\u001b[0m\u001b[0;34m\u001b[0m\u001b[0;34m\u001b[0m\u001b[0m\n\u001b[0m",
            "\u001b[0;31mNameError\u001b[0m: name 'plot_performance' is not defined"
          ]
        }
      ]
    },
    {
      "cell_type": "code",
      "metadata": {
        "id": "CTaYhnpX1xft",
        "colab_type": "code",
        "colab": {}
      },
      "source": [
        "plot_performance(tr_loss, vl_loss, 'loss')"
      ],
      "execution_count": 0,
      "outputs": []
    },
    {
      "cell_type": "code",
      "metadata": {
        "id": "csetqd98Ofie",
        "colab_type": "code",
        "outputId": "ad92125b-8361-4fbf-9573-98d253beffee",
        "colab": {
          "base_uri": "https://localhost:8080/",
          "height": 53
        }
      },
      "source": [
        "with tf.Session() as sess:\n",
        "    sess.run(tf.global_variables_initializer())\n",
        "    saver.restore(sess, tf.train.get_checkpoint_state('').model_checkpoint_path)\n",
        "    test_loss, test_acc = run(model, sess, testset)\n",
        "    print ('test loss: ', test_loss, 'test acc: ', test_acc)"
      ],
      "execution_count": 0,
      "outputs": [
        {
          "output_type": "stream",
          "text": [
            "INFO:tensorflow:Restoring parameters from checkpoints\n",
            "test loss:  0.55588800907135 test acc:  0.7230400323867798\n"
          ],
          "name": "stdout"
        }
      ]
    },
    {
      "cell_type": "code",
      "metadata": {
        "id": "Kkg4kNmdOzLv",
        "colab_type": "code",
        "colab": {}
      },
      "source": [
        ""
      ],
      "execution_count": 0,
      "outputs": []
    }
  ]
}