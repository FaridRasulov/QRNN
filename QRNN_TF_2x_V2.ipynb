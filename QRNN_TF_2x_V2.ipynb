{
  "nbformat": 4,
  "nbformat_minor": 0,
  "metadata": {
    "colab": {
      "name": "QRNN.ipynb",
      "provenance": [],
      "collapsed_sections": [],
      "include_colab_link": true
    },
    "kernelspec": {
      "name": "python3",
      "display_name": "Python 3"
    },
    "accelerator": "GPU"
  },
  "cells": [
    {
      "cell_type": "markdown",
      "metadata": {
        "id": "view-in-github",
        "colab_type": "text"
      },
      "source": [
        "<a href=\"https://colab.research.google.com/github/FaridRasulov/QRNN/blob/master/QRNN_TF_2x_V2.ipynb\" target=\"_parent\"><img src=\"https://colab.research.google.com/assets/colab-badge.svg\" alt=\"Open In Colab\"/></a>"
      ]
    },
    {
      "cell_type": "code",
      "metadata": {
        "id": "jUGQa7rK2Fbe",
        "colab_type": "code",
        "outputId": "9fec581c-1d8a-4df4-ba36-4cca53b67114",
        "colab": {
          "base_uri": "https://localhost:8080/",
          "height": 73
        }
      },
      "source": [
        "import os\n",
        "import os.path\n",
        "import sys\n",
        "import json\n",
        "import numpy as np\n",
        "import tensorflow as tf\n",
        "from keras.datasets import imdb\n",
        "from torch.utils.data import Dataset, DataLoader\n",
        "from google.colab import drive\n",
        "drive.mount('/content/gdrive')\n",
        "tf.test.gpu_device_name()"
      ],
      "execution_count": 1,
      "outputs": [
        {
          "output_type": "stream",
          "text": [
            "Using TensorFlow backend.\n"
          ],
          "name": "stderr"
        },
        {
          "output_type": "stream",
          "text": [
            "Drive already mounted at /content/gdrive; to attempt to forcibly remount, call drive.mount(\"/content/gdrive\", force_remount=True).\n"
          ],
          "name": "stdout"
        },
        {
          "output_type": "execute_result",
          "data": {
            "text/plain": [
              "'/device:GPU:0'"
            ]
          },
          "metadata": {
            "tags": []
          },
          "execution_count": 1
        }
      ]
    },
    {
      "cell_type": "code",
      "metadata": {
        "id": "2NP2ZGdI2YLw",
        "colab_type": "code",
        "colab": {}
      },
      "source": [
        "def get_embeddings(vocab, path, dim = 300):\n",
        "    vocab_dict = {word: int(_id) for _id, word in vocab.items()}\n",
        "    embed_id = path.split('.')[-2]\n",
        "    if embed_id+'_imdb.json' not in os.listdir('.'):\n",
        "        embeds = {}\n",
        "        with open(path, encoding=\"utf8\") as f:\n",
        "            for line in f:\n",
        "                split = line.split()\n",
        "                word = split[0].encode('utf-8').lower()\n",
        "                vec = split[1:]\n",
        "                if word in vocab_dict.keys():\n",
        "                    embeds[vocab_dict[word]] = list(map(float,vec))\n",
        "        with open(embed_id+'_imdb.json', 'w') as f:\n",
        "            f.write(json.dumps(embeds))\n",
        "    else:\n",
        "        with open(embed_id+'_imdb.json') as f:\n",
        "            embeds = {int(_id): word for _id, word in json.loads(f.read()).items()}\n",
        "    embed_list = []\n",
        "    for i in range(3):\n",
        "        initializer = tf.initializers.GlorotUniform()\n",
        "        var = tf.Variable(initializer(shape=[dim]))\n",
        "        embed_list.append(var)\n",
        "    for _id, word in vocab.items():\n",
        "        if int(_id) in embeds.keys(): embed_list.append(tf.constant(embeds[_id], dtype=tf.float32))\n",
        "        else: embed_list.append(embed_list[2])\n",
        "    return tf.stack(embed_list, axis=0)\n",
        "\n",
        "class imdbDataset(Dataset):\n",
        "    def __init__(self, dataset, seq_len=100):\n",
        "        self.x = dataset[0]\n",
        "        self.pad_inputs(seq_len)\n",
        "        self.get_masks(seq_len)\n",
        "        self.y = dataset[1]\n",
        "\n",
        "    def pad_inputs(self, seq_len):\n",
        "        new_xs = []\n",
        "        for x in self.x:\n",
        "            if len(x) > seq_len: x = x[:seq_len]\n",
        "            elif len(x) < seq_len: x += [0] * (seq_len - len(x))\n",
        "            assert len(x) == seq_len\n",
        "            new_xs.append(x)\n",
        "        self.x = new_xs\n",
        "\n",
        "    def get_masks(self, seq_len):\n",
        "        self.masks = []\n",
        "        for x in self.x:\n",
        "            mask = [1.0 * (x_i != 0) for x_i in x]\n",
        "            assert len(mask) == seq_len\n",
        "            self.masks.append(mask)\n",
        "\n",
        "    def __len__(self):\n",
        "        return len(self.x)\n",
        "\n",
        "    def __getitem__(self, i):\n",
        "        return self.x[i], self.masks[i], self.y[i]\n",
        "\n",
        "def plot_performance(train, val, label):\n",
        "    plt.plot(train)\n",
        "    plt.plot(val)\n",
        "    plt.ylabel(label)\n",
        "    plt.xlabel('epoch')\n",
        "    if label=='acc':\n",
        "      plt.legend(['train', 'val'], loc='lower right')\n",
        "    elif label=='loss':\n",
        "      plt.legend(['train', 'val'], loc='upper right')\n",
        "    plt.grid()\n",
        "    plt.show()\n",
        "\n",
        "def get_datasets(batch_size=100, num_words=1000, seq_len=100):\n",
        "    train, test = imdb.load_data(num_words=num_words)\n",
        "    vocab = imdb.get_word_index()\n",
        "    vocab = {int(_id): word.encode('utf-8').lower() for word, _id in vocab.items() if _id <= num_words}\n",
        "    train = imdbDataset(train, seq_len=seq_len)\n",
        "    n = int(len(test[0])/2)\n",
        "    val = imdbDataset((test[0][0:n], test[1][0:n]), seq_len=seq_len)\n",
        "    test = imdbDataset((test[0][n:], test[1][n:]), seq_len=seq_len)\n",
        "    # if os.path.isfile('./glove.6B.300d.txt')==False:\n",
        "    #         !wget http://nlp.stanford.edu/data/glove.6B.zip\n",
        "    #         !unzip glove*.zip\n",
        "    return (DataLoader(train, batch_size), DataLoader(val, batch_size), DataLoader(test, batch_size), vocab)"
      ],
      "execution_count": 0,
      "outputs": []
    },
    {
      "cell_type": "markdown",
      "metadata": {
        "id": "G8fwi6rtmvfN",
        "colab_type": "text"
      },
      "source": [
        "**Step 1: Apply convolutions to compute intermediate vectors and gating vectors**\n",
        "\n",
        "QRNNs use a regular convolution layer1 in the timestep dimension to compute three vectors for each input: a candidate vector, a forget gate, and an output gate. More specifically, given an input sequence of n-dimensional vectors x_1, x_2, ... x_T , the convolution layer for the candidate vectors with m filters produces a sequence of T m-dimensional output vectors z_1, z_2, ..., z_T . The same goes for the forget gates and output gates. The precise equations are"
      ]
    },
    {
      "cell_type": "code",
      "metadata": {
        "id": "ePRsK3392LdN",
        "colab_type": "code",
        "colab": {}
      },
      "source": [
        "class DenseModel:\n",
        "    def __init__(self, BATCH_SIZE, SEQ_LEN, num_layers, hidden_size, conv_size, zoneout=0.1, dropout = 0.3, num_in_channels = 1):\n",
        "        self.batch_size = BATCH_SIZE\n",
        "        self.seq_len = SEQ_LEN\n",
        "        self.num_layers = num_layers\n",
        "        self.hidden_size = hidden_size\n",
        "        self.conv_size = conv_size\n",
        "        self.dropout = dropout\n",
        "        self.zoneout = zoneout\n",
        "        self.weights = []\n",
        "        self.biases = []\n",
        "        for i in range(num_layers):\n",
        "          exec('self.W_'+str(i)+' = tf.Variable(tf.random.normal([conv_size, hidden_size, num_in_channels+'+str(i)+', hidden_size*3]), trainable=True)')\n",
        "          exec('self.weights.append(self.W_'+str(i)+')')\n",
        "          exec('self.b_'+str(i)+' = tf.Variable(tf.random.normal([hidden_size*(3)]), trainable=True)')\n",
        "          exec('self.biases.append(self.b_'+str(i)+')')\n",
        "        self.inputsDense = tf.keras.layers.Dense(hidden_size)\n",
        "        self.outputsDense = tf.keras.layers.Dense(2, dtype='float64')\n",
        "\n",
        "    def __call__(self, inputs, masks, train):        \n",
        "        inputs = tf.expand_dims(tf.nn.embedding_lookup(embeddings, inputs), -1)\n",
        "        inputs = self.inputsDense(tf.transpose(inputs, [0, 1, 3, 2]))\n",
        "        inputs = tf.transpose(inputs, [1, 0, 3, 2])\n",
        "        for wb in zip(self.weights, self.biases):\n",
        "            outputs = self.Layer(inputs, wb[0], wb[1], train=train)\n",
        "            outputs = tf.nn.dropout(outputs, 1 - self.dropout) if train else outputs\n",
        "            inputs = tf.concat([inputs, outputs], 3)\n",
        "        inputs = tf.squeeze(outputs[:, :, :, -1])\n",
        "        inputs = tf.transpose(tf.cast(inputs,dtype='float64'), perm=[1, 0, 2])\n",
        "        outputs = tf.reduce_mean(inputs * tf.expand_dims(masks, -1), 1)\n",
        "        logits = self.outputsDense(tf.squeeze(outputs))\n",
        "        pred = tf.argmax(tf.nn.softmax(logits), -1)   \n",
        "        return logits, pred\n",
        "\n",
        "    def Layer(self, data, W, b, train):\n",
        "        padded_data = tf.pad(data, [[0, 0], [self.conv_size - 1, 0], [0, 0], [0, 0]], \"CONSTANT\")\n",
        "        conv = tf.nn.conv2d(padded_data, W, strides=[1, 1, 1, 1],padding='VALID') + b\n",
        "        gates = tf.split(conv, 3, 3)\n",
        "        F = gates[2]\n",
        "        F = 1-tf.nn.dropout(F, 1-self.zoneout)if train else F\n",
        "        gates[2] = F\n",
        "        gates[0] = tf.tanh(gates[0])\n",
        "        for i in range(1, len(gates)):\n",
        "            gates[i] = tf.sigmoid(gates[i])\n",
        "        Z, F, O = gates\n",
        "        Z = tf.unstack(Z, axis=1)\n",
        "        F = tf.unstack(F, axis=1)\n",
        "        O = tf.unstack(O, axis=1)\n",
        "        C = [tf.zeros(tf.shape(Z[0]), tf.float32)] # #\n",
        "        H = []\n",
        "        for i in range(len(Z)):\n",
        "            c = tf.multiply(F[i], C[-1]) + tf.multiply(1-F[i], Z[i])\n",
        "            h = tf.multiply(O[i], c)\n",
        "            C.append(c)\n",
        "            H.append(h)\n",
        "        H = tf.stack(H, axis=1)\n",
        "        return tf.transpose(H, perm=[0, 1, 3, 2])"
      ],
      "execution_count": 0,
      "outputs": []
    },
    {
      "cell_type": "code",
      "metadata": {
        "id": "dOO-O4jB2-Fo",
        "colab_type": "code",
        "colab": {}
      },
      "source": [
        "NUM_EPOCHS = 5\n",
        "BATCH_SIZE = 25\n",
        "SEQ_LEN = 400\n",
        "VOCAB_SIZE = 68379\n",
        "num_layers = 4\n",
        "hidden_size = 256\n",
        "conv_size = 2\n",
        "\n",
        "trainset, valset, testset, vocab = get_datasets(BATCH_SIZE,VOCAB_SIZE,SEQ_LEN)\n",
        "embeddings = get_embeddings(vocab, './gdrive/My Drive/glove.6B.300d.txt')"
      ],
      "execution_count": 0,
      "outputs": []
    },
    {
      "cell_type": "code",
      "metadata": {
        "id": "lxImLmeD0GL4",
        "colab_type": "code",
        "outputId": "bda9708c-93f7-48c3-bac4-d4ff3043ec65",
        "colab": {
          "base_uri": "https://localhost:8080/",
          "height": 110
        }
      },
      "source": [
        "model = DenseModel(BATCH_SIZE, SEQ_LEN, num_layers, hidden_size, conv_size)\n",
        "optimizer = tf.keras.optimizers.RMSprop(learning_rate=0.001)\n",
        "loss_object = tf.keras.losses.SparseCategoricalCrossentropy(from_logits=True)\n",
        "\n",
        "loss_history = []\n",
        "acc_history = []\n",
        "\n",
        "@tf.function\n",
        "def Train(model, inputs, masks, labels):\n",
        "    batch_loss = []\n",
        "    batch_acc = []\n",
        "    with tf.GradientTape() as tape:\n",
        "      logits, pred = model(inputs, masks, train=True)\n",
        "      loss_value = tf.nn.sparse_softmax_cross_entropy_with_logits(logits=logits, labels=labels)\n",
        "      cost = tf.reduce_sum(loss_value)/BATCH_SIZE\n",
        "      correct_prediction = tf.equal(pred, labels)\n",
        "      acc_value = tf.reduce_sum(tf.cast(correct_prediction,tf.float32))/BATCH_SIZE\n",
        "\n",
        "    batch_loss.append(loss_value)\n",
        "    batch_acc.append(acc_value)\n",
        "    grads = tape.gradient(loss_value, model.weights+model.biases)\n",
        "    optimizer.apply_gradients(zip(grads, model.weights+model.biases))\n",
        "    return batch_loss, batch_acc\n",
        "\n",
        "for epoch in range(NUM_EPOCHS):\n",
        "    for x, masks, y in trainset:\n",
        "      inputs = np.array([i.numpy() for i in x]).T\n",
        "      masks = np.array([i.numpy() for i in masks]).T\n",
        "      labels = np.array([i.numpy() for i in y]).T\n",
        "      batch_loss, batch_acc= Train(model, inputs, masks, labels)\n",
        "    loss_history.append(np.mean(batch_loss))\n",
        "    acc_history.append(np.mean(batch_acc))\n",
        "    print ('Epoch: {}\\tTrain loss: {}\\tTrain accuracy: {}'.format(epoch, loss_history[epoch], acc_history[epoch]))"
      ],
      "execution_count": 45,
      "outputs": [
        {
          "output_type": "stream",
          "text": [
            "Epoch: 0\tTrain loss: 0.6933415883133941\tTrain accuracy: 0.3999999761581421\n",
            "Epoch: 1\tTrain loss: 0.6946141617179831\tTrain accuracy: 0.47999998927116394\n",
            "Epoch: 2\tTrain loss: 0.6908518597530481\tTrain accuracy: 0.5199999809265137\n",
            "Epoch: 3\tTrain loss: 0.6817826160651025\tTrain accuracy: 0.5999999642372131\n",
            "Epoch: 4\tTrain loss: 0.6986812231715832\tTrain accuracy: 0.3999999761581421\n"
          ],
          "name": "stdout"
        }
      ]
    },
    {
      "cell_type": "code",
      "metadata": {
        "id": "kW7ZstLvaKzt",
        "colab_type": "code",
        "colab": {
          "base_uri": "https://localhost:8080/",
          "height": 279
        },
        "outputId": "93c2bd35-1e0f-496f-e92c-69ceacde324f"
      },
      "source": [
        "import matplotlib.pyplot as plt\n",
        "loss = [loss_history[i] for i in range(len(loss_history))]\n",
        "plt.plot(loss)\n",
        "plt.ylabel('loss')\n",
        "plt.xlabel('epoch')\n",
        "plt.grid()\n",
        "plt.show()"
      ],
      "execution_count": 47,
      "outputs": [
        {
          "output_type": "display_data",
          "data": {
            "image/png": "[encoded data removed]",
            "text/plain": [
              "<Figure size 432x288 with 1 Axes>"
            ]
          },
          "metadata": {
            "tags": [],
            "needs_background": "light"
          }
        }
      ]
    },
    {
      "cell_type": "code",
      "metadata": {
        "id": "5XQ9EaIsWWqD",
        "colab_type": "code",
        "colab": {
          "base_uri": "https://localhost:8080/",
          "height": 279
        },
        "outputId": "edb8e2be-1756-41ea-8f80-e41dacdeb4fd"
      },
      "source": [
        "import matplotlib.pyplot as plt\n",
        "acc = [acc_history[i] for i in range(len(acc_history))]\n",
        "plt.plot(acc)\n",
        "plt.ylabel('acc')\n",
        "plt.xlabel('epoch')\n",
        "plt.grid()\n",
        "plt.show()"
      ],
      "execution_count": 48,
      "outputs": [
        {
          "output_type": "display_data",
          "data": {
            "image/png": "[encoded data removed]",
            "text/plain": [
              "<Figure size 432x288 with 1 Axes>"
            ]
          },
          "metadata": {
            "tags": [],
            "needs_background": "light"
          }
        }
      ]
    },
    {
      "cell_type": "code",
      "metadata": {
        "id": "ghoUVM1Qb7Bi",
        "colab_type": "code",
        "colab": {}
      },
      "source": [
        ""
      ],
      "execution_count": 0,
      "outputs": []
    }
  ]
}