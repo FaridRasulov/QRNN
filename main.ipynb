{
 "cells": [
  {
   "cell_type": "code",
   "execution_count": 1,
   "metadata": {},
   "outputs": [
    {
     "name": "stderr",
     "output_type": "stream",
     "text": [
      "Using TensorFlow backend.\n"
     ]
    },
    {
     "name": "stdout",
     "output_type": "stream",
     "text": [
      "\n",
      "WARNING: The TensorFlow contrib module will not be included in TensorFlow 2.0.\n",
      "For more information, please see:\n",
      "  * https://github.com/tensorflow/community/blob/master/rfcs/20180907-contrib-sunset.md\n",
      "  * https://github.com/tensorflow/addons\n",
      "If you depend on functionality not listed there, please file an issue.\n",
      "\n",
      "WARNING:tensorflow:From C:\\Users\\Farid\\Anaconda33\\lib\\site-packages\\tensorflow\\python\\framework\\op_def_library.py:263: colocate_with (from tensorflow.python.framework.ops) is deprecated and will be removed in a future version.\n",
      "Instructions for updating:\n",
      "Colocations handled automatically by placer.\n",
      "WARNING:tensorflow:From C:\\Users\\Farid\\Desktop\\tf-qrnn-master(1)\\tf-qrnn-master\\models.py:141: dense (from tensorflow.python.layers.core) is deprecated and will be removed in a future version.\n",
      "Instructions for updating:\n",
      "Use keras.layers.dense instead.\n",
      "WARNING:tensorflow:From C:\\Users\\Farid\\Desktop\\tf-qrnn-master(1)\\tf-qrnn-master\\models.py:147: calling dropout (from tensorflow.python.ops.nn_ops) with keep_prob is deprecated and will be removed in a future version.\n",
      "Instructions for updating:\n",
      "Please use `rate` instead of `keep_prob`. Rate should be set to `rate = 1 - keep_prob`.\n",
      "WARNING:tensorflow:From C:\\Users\\Farid\\Anaconda33\\lib\\site-packages\\tensorflow\\python\\ops\\array_grad.py:425: to_int32 (from tensorflow.python.ops.math_ops) is deprecated and will be removed in a future version.\n",
      "Instructions for updating:\n",
      "Use tf.cast instead.\n",
      "epoch 0 average train acc: 0.49796001851558686\n",
      "average test acc: 0.4959200215339661\n"
     ]
    }
   ],
   "source": [
    "import os\n",
    "import sys\n",
    "import tensorflow as tf\n",
    "import utils\n",
    "from time import time\n",
    "import models as Models\n",
    "\n",
    "NUM_EPOCHS = 1\n",
    "BATCH_SIZE = 500\n",
    "SEQ_LEN = 500\n",
    "VOCAB_SIZE = 500\n",
    "\n",
    "def run(model, sess, dataset):\n",
    "    avg_correct = 0.0\n",
    "    for x, masks, y in dataset:\n",
    "        \n",
    "        input_feed = {\n",
    "            model.inputs: utils.convert_to_np(x),\n",
    "            model.masks: utils.convert_to_np(masks),\n",
    "            model.labels: utils.convert_to_np(y),\n",
    "        }\n",
    "        \n",
    "        output_feed = [model.accuracy, model.op]\n",
    "        num_correct, _ = sess.run(output_feed, input_feed)\n",
    "        avg_correct += num_correct\n",
    "    avg_correct /= len(dataset)\n",
    "    return avg_correct\n",
    "\n",
    "def train(vocab, embeddings, train_data, test_data):\n",
    "    model = Models.DenseQRNNModel(embeddings, BATCH_SIZE, SEQ_LEN, VOCAB_SIZE)\n",
    "    with tf.Session() as sess:\n",
    "        sess.run(tf.global_variables_initializer())\n",
    "        epoch = model.epoch.eval()\n",
    "        \n",
    "        for i in range(epoch, NUM_EPOCHS):\n",
    "            train_acc = run(model, sess, train_data)\n",
    "            print ('epoch', i, 'average train acc:', train_acc)\n",
    "            sess.run(tf.assign(model.epoch, i+1))\n",
    "        \n",
    "        test_acc = run(model, sess, test_data)\n",
    "        print ('average test acc:', test_acc)\n",
    "\n",
    "def init_embeddings(embeds, vocab, dim):\n",
    "    embed_list = []\n",
    "    for i in range(3):\n",
    "        var = tf.Variable(tf.contrib.layers.xavier_initializer()(shape=[dim]), dtype=tf.float32)\n",
    "        embed_list.append(var)\n",
    "    for _id, word in vocab.items():\n",
    "        if int(_id) in embeds.keys():\n",
    "            embed_list.append(tf.constant(embeds[_id], dtype=tf.float32))\n",
    "        else:\n",
    "            embed_list.append(embed_list[2])\n",
    "    return tf.stack(embed_list, axis=0)\n",
    "\n",
    "if __name__ == '__main__':\n",
    "    trainset, test, vocab = utils.get_datasets(batch_size=BATCH_SIZE,num_words=VOCAB_SIZE,seq_len=SEQ_LEN)\n",
    "    embeds = utils.get_embeddings(vocab, './glove.6B/glove.6B.300d.txt')\n",
    "    embeds = init_embeddings(embeds, vocab, 300)\n",
    "    train(vocab, embeds, trainset, test)"
   ]
  },
  {
   "cell_type": "code",
   "execution_count": null,
   "metadata": {},
   "outputs": [],
   "source": []
  }
 ],
 "metadata": {
  "kernelspec": {
   "display_name": "Python 3",
   "language": "python",
   "name": "python3"
  },
  "language_info": {
   "codemirror_mode": {
    "name": "ipython",
    "version": 3
   },
   "file_extension": ".py",
   "mimetype": "text/x-python",
   "name": "python",
   "nbconvert_exporter": "python",
   "pygments_lexer": "ipython3",
   "version": "3.7.3"
  }
 },
 "nbformat": 4,
 "nbformat_minor": 2
}
