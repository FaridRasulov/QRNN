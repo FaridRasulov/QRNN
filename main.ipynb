{
 "cells": [
  {
   "cell_type": "code",
   "execution_count": 2,
   "metadata": {},
   "outputs": [
    {
     "name": "stderr",
     "output_type": "stream",
     "text": [
      "Using TensorFlow backend.\n"
     ]
    }
   ],
   "source": [
    "import os\n",
    "import sys\n",
    "import numpy as np\n",
    "import tensorflow as tf\n",
    "import utils\n",
    "from time import time\n",
    "import models as Models"
   ]
  },
  {
   "cell_type": "code",
   "execution_count": 3,
   "metadata": {},
   "outputs": [],
   "source": [
    "def run(model, sess, dataset):\n",
    "    avg_correct = 0.0\n",
    "    for x, masks, y in dataset:\n",
    "        input_feed = {\n",
    "            model.inputs: np.array([i.numpy() for i in x]).T,\n",
    "            model.masks: np.array([i.numpy() for i in masks]).T,\n",
    "            model.labels: np.array([i.numpy() for i in y]).T\n",
    "        }\n",
    "\n",
    "        output_feed = [model.accuracy, model.op] if train else [model.accuracy, None]\n",
    "        num_correct, _ = sess.run(output_feed, input_feed)\n",
    "        avg_correct += num_correct\n",
    "    avg_correct /= len(dataset)\n",
    "    return avg_correct"
   ]
  },
  {
   "cell_type": "code",
   "execution_count": 4,
   "metadata": {},
   "outputs": [
    {
     "name": "stdout",
     "output_type": "stream",
     "text": [
      "\n",
      "WARNING: The TensorFlow contrib module will not be included in TensorFlow 2.0.\n",
      "For more information, please see:\n",
      "  * https://github.com/tensorflow/community/blob/master/rfcs/20180907-contrib-sunset.md\n",
      "  * https://github.com/tensorflow/addons\n",
      "If you depend on functionality not listed there, please file an issue.\n",
      "\n",
      "WARNING:tensorflow:From C:\\Users\\Farid\\Anaconda33\\lib\\site-packages\\tensorflow\\python\\framework\\op_def_library.py:263: colocate_with (from tensorflow.python.framework.ops) is deprecated and will be removed in a future version.\n",
      "Instructions for updating:\n",
      "Colocations handled automatically by placer.\n",
      "WARNING:tensorflow:From C:\\Users\\Farid\\Desktop\\tf-qrnn-master(1)\\tf-qrnn-master\\models.py:141: dense (from tensorflow.python.layers.core) is deprecated and will be removed in a future version.\n",
      "Instructions for updating:\n",
      "Use keras.layers.dense instead.\n",
      "WARNING:tensorflow:From C:\\Users\\Farid\\Desktop\\tf-qrnn-master(1)\\tf-qrnn-master\\models.py:147: calling dropout (from tensorflow.python.ops.nn_ops) with keep_prob is deprecated and will be removed in a future version.\n",
      "Instructions for updating:\n",
      "Please use `rate` instead of `keep_prob`. Rate should be set to `rate = 1 - keep_prob`.\n",
      "WARNING:tensorflow:From C:\\Users\\Farid\\Anaconda33\\lib\\site-packages\\tensorflow\\python\\ops\\array_grad.py:425: to_int32 (from tensorflow.python.ops.math_ops) is deprecated and will be removed in a future version.\n",
      "Instructions for updating:\n",
      "Use tf.cast instead.\n",
      "Initializing fresh parameters\n",
      "epoch 0 average train acc: 0.5254000240564346\n",
      "epoch 1 average train acc: 0.5692000222206116\n",
      "average test acc: 0.5791600298881531\n"
     ]
    }
   ],
   "source": [
    "NUM_EPOCHS = 2\n",
    "BATCH_SIZE = 500\n",
    "SEQ_LEN = 500\n",
    "VOCAB_SIZE = 500\n",
    "train = True\n",
    "\n",
    "train_data, test_data, vocab = utils.get_datasets(batch_size=BATCH_SIZE,num_words=VOCAB_SIZE,seq_len=SEQ_LEN)\n",
    "embeddings = utils.get_embeddings(vocab, './glove.6B/glove.6B.300d.txt')\n",
    "\n",
    "model = Models.DenseQRNNModel(embeddings, BATCH_SIZE, SEQ_LEN, VOCAB_SIZE, train)\n",
    "saver = tf.train.Saver()\n",
    "with tf.Session() as sess:\n",
    "    sess.run(tf.global_variables_initializer())\n",
    "    ckpt_path = os.path.join('checkpoints', 'dense')\n",
    "    utils.check_restore_parameters(sess, saver, ckpt_path)\n",
    "    epoch = model.epoch.eval()\n",
    "\n",
    "    for i in range(epoch, NUM_EPOCHS):\n",
    "        train_acc = run(model, sess, train_data)\n",
    "        print ('epoch', i, 'average train acc:', train_acc)\n",
    "        sess.run(tf.assign(model.epoch, i+1))\n",
    "\n",
    "    saver.save(sess, ckpt_path)\n",
    "\n",
    "    test_acc = run(model, sess, test_data)\n",
    "    print ('average test acc:', test_acc)"
   ]
  },
  {
   "cell_type": "code",
   "execution_count": null,
   "metadata": {},
   "outputs": [],
   "source": []
  }
 ],
 "metadata": {
  "kernelspec": {
   "display_name": "Python 3",
   "language": "python",
   "name": "python3"
  },
  "language_info": {
   "codemirror_mode": {
    "name": "ipython",
    "version": 3
   },
   "file_extension": ".py",
   "mimetype": "text/x-python",
   "name": "python",
   "nbconvert_exporter": "python",
   "pygments_lexer": "ipython3",
   "version": "3.7.3"
  }
 },
 "nbformat": 4,
 "nbformat_minor": 2
}
